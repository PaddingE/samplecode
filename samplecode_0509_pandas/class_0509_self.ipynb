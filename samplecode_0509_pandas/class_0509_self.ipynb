{
 "cells": [
  {
   "cell_type": "code",
   "execution_count": 1,
   "metadata": {},
   "outputs": [],
   "source": [
    "import pandas as pd"
   ]
  },
  {
   "cell_type": "code",
   "execution_count": 9,
   "metadata": {},
   "outputs": [
    {
     "name": "stdout",
     "output_type": "stream",
     "text": [
      "               0  1  2  3\n",
      "class name  None  전  궁  법\n",
      "class stat  None  힘  민  지\n",
      "class avil  None  분  회  속\n"
     ]
    }
   ],
   "source": [
    "dict_data = {'class name':[None,'전','궁','법'],\n",
    "             'class stat':[None,'힘','민','지'],\n",
    "             'class avil':[None,'분','회','속']\n",
    "}\n",
    "\n",
    "df = pd.DataFrame(dict_data)\n",
    "df = df.T\n",
    "print(df)\n",
    "\n",
    "df.to_excel('./df_class_data.xlsx')\n"
   ]
  }
 ],
 "metadata": {
  "kernelspec": {
   "display_name": "pandas_sample",
   "language": "python",
   "name": "python3"
  },
  "language_info": {
   "codemirror_mode": {
    "name": "ipython",
    "version": 3
   },
   "file_extension": ".py",
   "mimetype": "text/x-python",
   "name": "python",
   "nbconvert_exporter": "python",
   "pygments_lexer": "ipython3",
   "version": "3.11.3"
  },
  "orig_nbformat": 4
 },
 "nbformat": 4,
 "nbformat_minor": 2
}
