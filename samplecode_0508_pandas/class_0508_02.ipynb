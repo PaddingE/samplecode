{
 "cells": [
  {
   "cell_type": "code",
   "execution_count": 1,
   "metadata": {},
   "outputs": [
    {
     "name": "stdout",
     "output_type": "stream",
     "text": [
      "Requirement already satisfied: matplotlib in c:\\users\\hyun9\\anaconda3\\envs\\pandas_sample\\lib\\site-packages (3.7.1)\n",
      "Requirement already satisfied: contourpy>=1.0.1 in c:\\users\\hyun9\\anaconda3\\envs\\pandas_sample\\lib\\site-packages (from matplotlib) (1.0.7)\n",
      "Requirement already satisfied: cycler>=0.10 in c:\\users\\hyun9\\anaconda3\\envs\\pandas_sample\\lib\\site-packages (from matplotlib) (0.11.0)\n",
      "Requirement already satisfied: fonttools>=4.22.0 in c:\\users\\hyun9\\anaconda3\\envs\\pandas_sample\\lib\\site-packages (from matplotlib) (4.39.3)\n",
      "Requirement already satisfied: kiwisolver>=1.0.1 in c:\\users\\hyun9\\anaconda3\\envs\\pandas_sample\\lib\\site-packages (from matplotlib) (1.4.4)\n",
      "Requirement already satisfied: numpy>=1.20 in c:\\users\\hyun9\\anaconda3\\envs\\pandas_sample\\lib\\site-packages (from matplotlib) (1.24.3)\n",
      "Requirement already satisfied: packaging>=20.0 in c:\\users\\hyun9\\appdata\\roaming\\python\\python311\\site-packages (from matplotlib) (23.1)\n",
      "Requirement already satisfied: pillow>=6.2.0 in c:\\users\\hyun9\\anaconda3\\envs\\pandas_sample\\lib\\site-packages (from matplotlib) (9.5.0)\n",
      "Requirement already satisfied: pyparsing>=2.3.1 in c:\\users\\hyun9\\anaconda3\\envs\\pandas_sample\\lib\\site-packages (from matplotlib) (3.0.9)\n",
      "Requirement already satisfied: python-dateutil>=2.7 in c:\\users\\hyun9\\appdata\\roaming\\python\\python311\\site-packages (from matplotlib) (2.8.2)\n",
      "Requirement already satisfied: six>=1.5 in c:\\users\\hyun9\\appdata\\roaming\\python\\python311\\site-packages (from python-dateutil>=2.7->matplotlib) (1.16.0)\n"
     ]
    }
   ],
   "source": [
    "! pip install matplotlib"
   ]
  },
  {
   "cell_type": "code",
   "execution_count": 1,
   "metadata": {},
   "outputs": [],
   "source": [
    "import numpy as np\n",
    "import pandas as pd\n",
    "import matplotlib.pyplot as plt"
   ]
  },
  {
   "cell_type": "code",
   "execution_count": 4,
   "metadata": {},
   "outputs": [
    {
     "name": "stdout",
     "output_type": "stream",
     "text": [
      "    c0  c1  c2\n",
      "c3            \n",
      "7    0   1   4\n",
      "8    1   2   5\n",
      "9    2   3   6\n"
     ]
    }
   ],
   "source": [
    "## read_csv\n",
    "\n",
    "df1 = pd.read_csv('./read_csv_sample.csv', header= 0,\n",
    "                  index_col='c3')\n",
    "print(df1)"
   ]
  },
  {
   "cell_type": "code",
   "execution_count": 5,
   "metadata": {},
   "outputs": [
    {
     "name": "stdout",
     "output_type": "stream",
     "text": [
      "    Species  Weight  Length  Diagonal   Height   Width\n",
      "0     Bream   242.0    25.4      30.0  11.5200  4.0200\n",
      "1     Bream   290.0    26.3      31.2  12.4800  4.3056\n",
      "2     Bream   340.0    26.5      31.1  12.3778  4.6961\n",
      "3     Bream   363.0    29.0      33.5  12.7300  4.4555\n",
      "4     Bream   430.0    29.0      34.0  12.4440  5.1340\n",
      "..      ...     ...     ...       ...      ...     ...\n",
      "154   Smelt    12.2    12.2      13.4   2.0904  1.3936\n",
      "155   Smelt    13.4    12.4      13.5   2.4300  1.2690\n",
      "156   Smelt    12.2    13.0      13.8   2.2770  1.2558\n",
      "157   Smelt    19.7    14.3      15.2   2.8728  2.0672\n",
      "158   Smelt    19.9    15.0      16.2   2.9322  1.8792\n",
      "\n",
      "[159 rows x 6 columns]\n"
     ]
    }
   ],
   "source": [
    "fish_df1 = pd.read_csv('https://bit.ly/fish_csv')\n",
    "\n",
    "print(fish_df1)"
   ]
  },
  {
   "cell_type": "code",
   "execution_count": 6,
   "metadata": {},
   "outputs": [
    {
     "name": "stdout",
     "output_type": "stream",
     "text": [
      "    A  B  C  D\n",
      "ID            \n",
      "C1  1  2  3  4\n",
      "C2  5  6  7  8\n",
      "C3  1  3  5  7\n"
     ]
    }
   ],
   "source": [
    "df_bar = pd.read_csv('./test_bar.txt',sep= '|',\n",
    "                     header=0, index_col= 'ID')\n",
    "print(df_bar)"
   ]
  },
  {
   "cell_type": "code",
   "execution_count": 12,
   "metadata": {},
   "outputs": [
    {
     "name": "stdout",
     "output_type": "stream",
     "text": [
      "   ID  A  B  C  D\n",
      "0  C1  1  2  3  4\n",
      "1  C2  5  6  7  8\n",
      "2  C3  1  3  5  7\n"
     ]
    }
   ],
   "source": [
    "df_tab = pd.read_csv('./test_tab.txt',sep='\\t', header= 0)\n",
    "\n",
    "print(df_tab)"
   ]
  },
  {
   "cell_type": "code",
   "execution_count": 17,
   "metadata": {},
   "outputs": [
    {
     "name": "stdout",
     "output_type": "stream",
     "text": [
      "                  ID   A   B   C   D\n",
      "0  C1  1   2   3   4 NaN NaN NaN NaN\n",
      "1  C2  5   6   7   8 NaN NaN NaN NaN\n",
      "2  C3  1   3   5   7 NaN NaN NaN NaN\n"
     ]
    }
   ],
   "source": [
    "df_header = pd.read_csv('./test_tab_no_header.txt', header= None,\n",
    "                        names= ['ID','A','B','C','D'], sep='\\t')\n",
    "\n",
    "print(df_header)"
   ]
  },
  {
   "cell_type": "code",
   "execution_count": 19,
   "metadata": {},
   "outputs": [
    {
     "name": "stdout",
     "output_type": "stream",
     "text": [
      "   ID  A  B  C  D\n",
      "0  C1  1  2  3  4\n",
      "1  C2  5  6  7  8\n",
      "2  C3  1  3  5  7\n"
     ]
    }
   ],
   "source": [
    "df_skip = pd.read_csv('./test_tab_skip.txt',\n",
    "                      header= 0, sep = '\\t', skiprows=[0,1])\n",
    "\n",
    "print(df_skip)"
   ]
  },
  {
   "cell_type": "code",
   "execution_count": 21,
   "metadata": {},
   "outputs": [
    {
     "name": "stdout",
     "output_type": "stream",
     "text": [
      "Collecting openpyxl\n",
      "  Downloading openpyxl-3.1.2-py2.py3-none-any.whl (249 kB)\n",
      "                                              0.0/250.0 kB ? eta -:--:--\n",
      "                                              0.0/250.0 kB ? eta -:--:--\n",
      "     -                                        10.2/250.0 kB ? eta -:--:--\n",
      "     ----                                  30.7/250.0 kB 262.6 kB/s eta 0:00:01\n",
      "     ------                                41.0/250.0 kB 219.4 kB/s eta 0:00:01\n",
      "     ------------                          81.9/250.0 kB 383.3 kB/s eta 0:00:01\n",
      "     -------------------------            174.1/250.0 kB 700.2 kB/s eta 0:00:01\n",
      "     ------------------------------------ 250.0/250.0 kB 809.9 kB/s eta 0:00:00\n",
      "Collecting et-xmlfile (from openpyxl)\n",
      "  Downloading et_xmlfile-1.1.0-py3-none-any.whl (4.7 kB)\n",
      "Installing collected packages: et-xmlfile, openpyxl\n",
      "Successfully installed et-xmlfile-1.1.0 openpyxl-3.1.2\n"
     ]
    }
   ],
   "source": [
    "! pip install openpyxl"
   ]
  },
  {
   "cell_type": "code",
   "execution_count": 25,
   "metadata": {},
   "outputs": [
    {
     "name": "stdout",
     "output_type": "stream",
     "text": [
      "          발전 전력별  1990  1991  1992  1993  1994  1995  1996  1997  1998  ...   \n",
      "전력량 (억㎾h)                                                               ...   \n",
      "남한            합계  1077  1186  1310  1444  1650  1847  2055  2244  2153  ...  \\\n",
      "NaN           수력    64    51    49    60    41    55    52    54    61  ...   \n",
      "NaN           화력   484   573   696   803  1022  1122  1264  1420  1195  ...   \n",
      "NaN          원자력   529   563   565   581   587   670   739   771   897  ...   \n",
      "NaN          신재생     -     -     -     -     -     -     -     -     -  ...   \n",
      "북한            합계   277   263   247   221   231   230   213   193   170  ...   \n",
      "NaN           수력   156   150   142   133   138   142   125   107   102  ...   \n",
      "NaN           화력   121   113   105    88    93    88    88    86    68  ...   \n",
      "NaN          원자력     -     -     -     -     -     -     -     -     -  ...   \n",
      "\n",
      "           2007  2008  2009  2010  2011  2012  2013  2014  2015  2016  \n",
      "전력량 (억㎾h)                                                              \n",
      "남한         4031  4224  4336  4747  4969  5096  5171  5220  5281  5404  \n",
      "NaN          50    56    56    65    78    77    84    78    58    66  \n",
      "NaN        2551  2658  2802  3196  3343  3430  3581  3427  3402  3523  \n",
      "NaN        1429  1510  1478  1486  1547  1503  1388  1564  1648  1620  \n",
      "NaN           -     -     -     -     -    86   118   151   173   195  \n",
      "북한          236   255   235   237   211   215   221   216   190   239  \n",
      "NaN         133   141   125   134   132   135   139   130   100   128  \n",
      "NaN         103   114   110   103    79    80    82    86    90   111  \n",
      "NaN           -     -     -     -     -     -     -     -     -     -  \n",
      "\n",
      "[9 rows x 28 columns]\n"
     ]
    }
   ],
   "source": [
    "df_xlsx = pd.read_excel('./남북한발전전력량.xlsx',\n",
    "                        index_col='전력량 (억㎾h)')\n",
    "\n",
    "print(df_xlsx)"
   ]
  },
  {
   "cell_type": "code",
   "execution_count": 26,
   "metadata": {},
   "outputs": [
    {
     "name": "stdout",
     "output_type": "stream",
     "text": [
      "           name  year        developer opensource\n",
      "pandas           2008    Wes Mckinneye       True\n",
      "NumPy            2006  Travis Oliphant       True\n",
      "matplotlib       2003   John D. Hunter       True\n"
     ]
    }
   ],
   "source": [
    "df_json = pd.read_json('./read_json_sample.json')\n",
    "\n",
    "print(df_json)"
   ]
  },
  {
   "cell_type": "code",
   "execution_count": 28,
   "metadata": {},
   "outputs": [
    {
     "name": "stdout",
     "output_type": "stream",
     "text": [
      "Collecting lxml\n",
      "  Downloading lxml-4.9.2-cp311-cp311-win_amd64.whl (3.8 MB)\n",
      "                                              0.0/3.8 MB ? eta -:--:--\n",
      "                                              0.0/3.8 MB ? eta -:--:--\n",
      "                                              0.1/3.8 MB 812.7 kB/s eta 0:00:05\n",
      "     -----                                    0.5/3.8 MB 4.7 MB/s eta 0:00:01\n",
      "     -----------                              1.1/3.8 MB 7.1 MB/s eta 0:00:01\n",
      "     -----------------                        1.6/3.8 MB 8.1 MB/s eta 0:00:01\n",
      "     -----------------------                  2.2/3.8 MB 8.8 MB/s eta 0:00:01\n",
      "     --------------------------------         3.1/3.8 MB 10.2 MB/s eta 0:00:01\n",
      "     ---------------------------------------- 3.8/3.8 MB 10.9 MB/s eta 0:00:00\n",
      "Installing collected packages: lxml\n",
      "Successfully installed lxml-4.9.2\n"
     ]
    }
   ],
   "source": [
    "! pip install lxml"
   ]
  },
  {
   "cell_type": "code",
   "execution_count": 4,
   "metadata": {},
   "outputs": [
    {
     "name": "stdout",
     "output_type": "stream",
     "text": [
      "2\n",
      "   Unnamed: 0  c0  c1  c2  c3\n",
      "0           0   0   1   4   7\n",
      "1           1   1   2   5   8\n",
      "2           2   2   3   6   9\n",
      "         name  year        developer  opensource\n",
      "0       NumPy  2006  Travis Oliphant        True\n",
      "1  matplotlib  2003   John D. Hunter        True\n",
      "2      pandas  2008    Wes Mckinneye        True\n",
      "   Unnamed: 0  c0  c1  c2  c3\n",
      "0           0   0   1   4   7\n",
      "1           1   1   2   5   8\n",
      "2           2   2   3   6   9\n"
     ]
    }
   ],
   "source": [
    "url = './sample.html'\n",
    "\n",
    "tables = pd.read_html(url)\n",
    "\n",
    "print(len(tables))\n",
    "\n",
    "for i in range(2):\n",
    "    print(tables[i])\n",
    "    \n",
    "my_table = tables[0]\n",
    "\n",
    "print(my_table)"
   ]
  },
  {
   "cell_type": "code",
   "execution_count": 5,
   "metadata": {},
   "outputs": [
    {
     "name": "stdout",
     "output_type": "stream",
     "text": [
      "Collecting bs4\n",
      "  Downloading bs4-0.0.1.tar.gz (1.1 kB)\n",
      "  Preparing metadata (setup.py): started\n",
      "  Preparing metadata (setup.py): finished with status 'done'\n",
      "Collecting beautifulsoup4 (from bs4)\n",
      "  Using cached beautifulsoup4-4.12.2-py3-none-any.whl (142 kB)\n",
      "Collecting soupsieve>1.2 (from beautifulsoup4->bs4)\n",
      "  Using cached soupsieve-2.4.1-py3-none-any.whl (36 kB)\n",
      "Building wheels for collected packages: bs4\n",
      "  Building wheel for bs4 (setup.py): started\n",
      "  Building wheel for bs4 (setup.py): finished with status 'done'\n",
      "  Created wheel for bs4: filename=bs4-0.0.1-py3-none-any.whl size=1266 sha256=cb6948678f1be2b40a08093519acbab6ccf2866d41e93068755d48a78cb93a9e\n",
      "  Stored in directory: c:\\users\\hyun9\\appdata\\local\\pip\\cache\\wheels\\d4\\c8\\5b\\b5be9c20e5e4503d04a6eac8a3cd5c2393505c29f02bea0960\n",
      "Successfully built bs4\n",
      "Installing collected packages: soupsieve, beautifulsoup4, bs4\n",
      "Successfully installed beautifulsoup4-4.12.2 bs4-0.0.1 soupsieve-2.4.1\n"
     ]
    }
   ],
   "source": [
    "! pip install bs4"
   ]
  },
  {
   "cell_type": "code",
   "execution_count": 4,
   "metadata": {},
   "outputs": [
    {
     "name": "stdout",
     "output_type": "stream",
     "text": [
      "Collecting requests\n",
      "  Downloading requests-2.30.0-py3-none-any.whl (62 kB)\n",
      "                                              0.0/62.5 kB ? eta -:--:--\n",
      "     ------                                   10.2/62.5 kB ? eta -:--:--\n",
      "     ------------                           20.5/62.5 kB 217.9 kB/s eta 0:00:01\n",
      "     -------------------------------------  61.4/62.5 kB 469.7 kB/s eta 0:00:01\n",
      "     -------------------------------------- 62.5/62.5 kB 418.0 kB/s eta 0:00:00\n",
      "Collecting charset-normalizer<4,>=2 (from requests)\n",
      "  Downloading charset_normalizer-3.1.0-cp311-cp311-win_amd64.whl (96 kB)\n",
      "                                              0.0/96.7 kB ? eta -:--:--\n",
      "     ---------------------------------------- 96.7/96.7 kB 2.8 MB/s eta 0:00:00\n",
      "Collecting idna<4,>=2.5 (from requests)\n",
      "  Downloading idna-3.4-py3-none-any.whl (61 kB)\n",
      "                                              0.0/61.5 kB ? eta -:--:--\n",
      "     ---------------------------------------- 61.5/61.5 kB 3.4 MB/s eta 0:00:00\n",
      "Collecting urllib3<3,>=1.21.1 (from requests)\n",
      "  Downloading urllib3-2.0.2-py3-none-any.whl (123 kB)\n",
      "                                              0.0/123.2 kB ? eta -:--:--\n",
      "     -------------------------------------- 123.2/123.2 kB 7.5 MB/s eta 0:00:00\n",
      "Collecting certifi>=2017.4.17 (from requests)\n",
      "  Downloading certifi-2023.5.7-py3-none-any.whl (156 kB)\n",
      "                                              0.0/157.0 kB ? eta -:--:--\n",
      "     -------------------------------------- 157.0/157.0 kB 9.2 MB/s eta 0:00:00\n",
      "Installing collected packages: urllib3, idna, charset-normalizer, certifi, requests\n",
      "Successfully installed certifi-2023.5.7 charset-normalizer-3.1.0 idna-3.4 requests-2.30.0 urllib3-2.0.2\n"
     ]
    }
   ],
   "source": [
    "! pip install requests"
   ]
  },
  {
   "cell_type": "code",
   "execution_count": 5,
   "metadata": {},
   "outputs": [],
   "source": [
    "import requests\n",
    "from bs4 import BeautifulSoup"
   ]
  },
  {
   "cell_type": "code",
   "execution_count": 30,
   "metadata": {},
   "outputs": [
    {
     "name": "stdout",
     "output_type": "stream",
     "text": [
      "<script type=\"text/javascript\">\n",
      "var nsc = \"news.stand\";\n",
      "</script>\n",
      "<script async=\"\" src=\"https://ssl.pstatic.net/tveta/libs/ndpsdk/prod/ndp-loader.js\"></script>\n",
      "<script>\n",
      "\twindow.ndpsdk = window.ndpsdk || { cmd: [], polyfill: { cmd: [] } };\n",
      "</script>\n"
     ]
    }
   ],
   "source": [
    "url = 'https://newsstand.naver.com/?list=&pcode=022'\n",
    "\n",
    "resp = requests.get(url)\n",
    "\n",
    "#print(resp.text)\n",
    "\n",
    "soup = BeautifulSoup(resp.text, 'html.parser')\n",
    "soup_select = soup.select('meta > script')\n",
    "for i in range(len(soup_select)):\n",
    "    \n",
    "    print(soup_select[i])"
   ]
  },
  {
   "cell_type": "code",
   "execution_count": 13,
   "metadata": {},
   "outputs": [
    {
     "name": "stdout",
     "output_type": "stream",
     "text": [
      "    name algol basic c++\n",
      "0  Jerry     A     C  B+\n",
      "1   Riah    A+     B   C\n",
      "2   Paul     B    B+  C+\n",
      "      algol basic c++\n",
      "name                 \n",
      "Jerry     A     C  B+\n",
      "Riah     A+     B   C\n",
      "Paul      B    B+  C+\n"
     ]
    }
   ],
   "source": [
    "## data save csv\n",
    "\n",
    "data = {'name' : [ 'Jerry', 'Riah', 'Paul'],\n",
    "        'algol' : [ \"A\", \"A+\", \"B\"],\n",
    "        'basic' : [ \"C\", \"B\", \"B+\"],\n",
    "        'c++' : [ \"B+\", \"C\", \"C+\"],\n",
    "        }\n",
    "\n",
    "my_df = pd.DataFrame(data)\n",
    "\n",
    "print(my_df)\n",
    "\n",
    "my_df.set_index('name', inplace= True)\n",
    "\n",
    "print(my_df)\n",
    "\n",
    "my_df.to_csv('./df_csv.csv', index=True)\n",
    "my_df.to_excel('./df_xlsx.xlsx', index=True)\n",
    "my_df.to_json('./df_json.json', index=True)"
   ]
  },
  {
   "cell_type": "code",
   "execution_count": 31,
   "metadata": {},
   "outputs": [
    {
     "name": "stdout",
     "output_type": "stream",
     "text": [
      "\n",
      "<html>\n",
      "    <head>\n",
      "    </head>\n",
      "    <body>\n",
      "        <h1> 우리동네시장</h1>\n",
      "            <div class = 'sale'>\n",
      "                <p id='fruits1' class='fruits'>\n",
      "                    <span class = 'name'> 바나나 </span>\n",
      "                    <span class = 'price'> 3000원 </span>\n",
      "                    <span class = 'inventory'> 500개 </span>\n",
      "                    <span class = 'store'> 가나다상회 </span>\n",
      "                    <a href = 'http://bit.ly/forPlaywithData' > 홈페이지 </a>\n",
      "                </p>\n",
      "            </div>\n",
      "            <div class = 'prepare'>\n",
      "                <p id='fruits2' class='fruits'>\n",
      "                    <span class ='name'> 파인애플 </span>\n",
      "                </p>\n",
      "            </div>\n",
      "    </body>\n",
      "</html>\n",
      "\n"
     ]
    }
   ],
   "source": [
    "html = '''\n",
    "<html>\n",
    "    <head>\n",
    "    </head>\n",
    "    <body>\n",
    "        <h1> 우리동네시장</h1>\n",
    "            <div class = 'sale'>\n",
    "                <p id='fruits1' class='fruits'>\n",
    "                    <span class = 'name'> 바나나 </span>\n",
    "                    <span class = 'price'> 3000원 </span>\n",
    "                    <span class = 'inventory'> 500개 </span>\n",
    "                    <span class = 'store'> 가나다상회 </span>\n",
    "                    <a href = 'http://bit.ly/forPlaywithData' > 홈페이지 </a>\n",
    "                </p>\n",
    "            </div>\n",
    "            <div class = 'prepare'>\n",
    "                <p id='fruits2' class='fruits'>\n",
    "                    <span class ='name'> 파인애플 </span>\n",
    "                </p>\n",
    "            </div>\n",
    "    </body>\n",
    "</html>\n",
    "'''\n",
    "\n"
   ]
  },
  {
   "cell_type": "code",
   "execution_count": 32,
   "metadata": {},
   "outputs": [
    {
     "name": "stdout",
     "output_type": "stream",
     "text": [
      "\n",
      "<html>\n",
      "<head>\n",
      "</head>\n",
      "<body>\n",
      "<h1> 우리동네시장</h1>\n",
      "<div class=\"sale\">\n",
      "<p class=\"fruits\" id=\"fruits1\">\n",
      "<span class=\"name\"> 바나나 </span>\n",
      "<span class=\"price\"> 3000원 </span>\n",
      "<span class=\"inventory\"> 500개 </span>\n",
      "<span class=\"store\"> 가나다상회 </span>\n",
      "<a href=\"http://bit.ly/forPlaywithData\"> 홈페이지 </a>\n",
      "</p>\n",
      "</div>\n",
      "<div class=\"prepare\">\n",
      "<p class=\"fruits\" id=\"fruits2\">\n",
      "<span class=\"name\"> 파인애플 </span>\n",
      "</p>\n",
      "</div>\n",
      "</body>\n",
      "</html>\n",
      "\n"
     ]
    }
   ],
   "source": [
    "soup = BeautifulSoup(html, 'html.parser')\n",
    "\n",
    "print(soup)"
   ]
  },
  {
   "cell_type": "code",
   "execution_count": 42,
   "metadata": {},
   "outputs": [
    {
     "data": {
      "text/plain": [
       "'\\n 파인애플 \\n'"
      ]
     },
     "execution_count": 42,
     "metadata": {},
     "output_type": "execute_result"
    }
   ],
   "source": [
    "soup.select('span')\n",
    "soup.select('p')\n",
    "soup.select('span.price')[0].text\n",
    "soup.select('#fruits2')[0].text"
   ]
  },
  {
   "cell_type": "code",
   "execution_count": 52,
   "metadata": {},
   "outputs": [
    {
     "name": "stdout",
     "output_type": "stream",
     "text": [
      "Index(['mpg', 'cylinders', 'displacement', 'horsepower', 'weight',\n",
      "       'acceleration', 'model year', 'origin', 'name'],\n",
      "      dtype='object')\n"
     ]
    }
   ],
   "source": [
    "df = pd.read_csv('./auto-mpg.csv', header= None)\n",
    "df.columns = ['mpg','cylinders','displacement','horsepower','weight',\n",
    "              'acceleration','model year','origin','name']\n",
    "#print(df.head(10))\n",
    "#print(df.tail())\n",
    "#print(df.info())\n",
    "#print(df.shape)\n",
    "#print(df.dtypes)\n",
    "#print(df['mpg'].dtype)\n",
    "print(df.columns)"
   ]
  },
  {
   "cell_type": "code",
   "execution_count": 56,
   "metadata": {},
   "outputs": [
    {
     "name": "stdout",
     "output_type": "stream",
     "text": [
      "      mpg  cylinders  displacement horsepower  weight  acceleration   \n",
      "0    18.0          8         307.0      130.0  3504.0          12.0  \\\n",
      "1    15.0          8         350.0      165.0  3693.0          11.5   \n",
      "2    18.0          8         318.0      150.0  3436.0          11.0   \n",
      "3    16.0          8         304.0      150.0  3433.0          12.0   \n",
      "4    17.0          8         302.0      140.0  3449.0          10.5   \n",
      "..    ...        ...           ...        ...     ...           ...   \n",
      "393  27.0          4         140.0      86.00  2790.0          15.6   \n",
      "394  44.0          4          97.0      52.00  2130.0          24.6   \n",
      "395  32.0          4         135.0      84.00  2295.0          11.6   \n",
      "396  28.0          4         120.0      79.00  2625.0          18.6   \n",
      "397  31.0          4         119.0      82.00  2720.0          19.4   \n",
      "\n",
      "     model year  origin                       name  \n",
      "0            70       1  chevrolet chevelle malibu  \n",
      "1            70       1          buick skylark 320  \n",
      "2            70       1         plymouth satellite  \n",
      "3            70       1              amc rebel sst  \n",
      "4            70       1                ford torino  \n",
      "..          ...     ...                        ...  \n",
      "393          82       1            ford mustang gl  \n",
      "394          82       2                  vw pickup  \n",
      "395          82       1              dodge rampage  \n",
      "396          82       1                ford ranger  \n",
      "397          82       1                 chevy s-10  \n",
      "\n",
      "[398 rows x 9 columns]\n",
      "23.514572864321607\n"
     ]
    }
   ],
   "source": [
    "## \n",
    "\n",
    "print(df)\n",
    "\n"
   ]
  },
  {
   "cell_type": "code",
   "execution_count": 68,
   "metadata": {},
   "outputs": [
    {
     "name": "stdout",
     "output_type": "stream",
     "text": [
      "23.514572864321607\n",
      "mpg         23.514573\n",
      "weight    2970.424623\n",
      "dtype: float64\n",
      "mpg         23.0\n",
      "weight    2803.5\n",
      "dtype: float64\n",
      "mpg         46.6\n",
      "weight    5140.0\n",
      "dtype: float64\n",
      "mpg          9.0\n",
      "weight    1613.0\n",
      "dtype: float64\n",
      "mpg           61.089611\n",
      "weight    717140.990526\n",
      "dtype: float64\n",
      "mpg         7.815984\n",
      "weight    846.841774\n",
      "dtype: float64\n",
      "mpg         17.50\n",
      "weight    2223.75\n",
      "Name: 0.25, dtype: float64\n",
      "mpg         29.0\n",
      "weight    3608.0\n",
      "Name: 0.75, dtype: float64\n",
      "mpg        0.391780\n",
      "weight    42.448343\n",
      "dtype: float64\n"
     ]
    }
   ],
   "source": [
    "## mean, median, max, min, var, std, quantile\n",
    "\n",
    "print(df['mpg'].mean())\n",
    "print(df[['mpg','weight']].mean())\n",
    "print(df[['mpg','weight']].median())\n",
    "print(df[['mpg','weight']].max())\n",
    "print(df[['mpg','weight']].min())\n",
    "print(df[['mpg','weight']].var())\n",
    "print(df[['mpg','weight']].std())\n",
    "print(df[['mpg','weight']].quantile(0.25))\n",
    "print(df[['mpg','weight']].quantile(0.75))\n",
    "print(df[['mpg','weight']].sem())"
   ]
  },
  {
   "cell_type": "code",
   "execution_count": 64,
   "metadata": {},
   "outputs": [
    {
     "data": {
      "text/html": [
       "<div>\n",
       "<style scoped>\n",
       "    .dataframe tbody tr th:only-of-type {\n",
       "        vertical-align: middle;\n",
       "    }\n",
       "\n",
       "    .dataframe tbody tr th {\n",
       "        vertical-align: top;\n",
       "    }\n",
       "\n",
       "    .dataframe thead th {\n",
       "        text-align: right;\n",
       "    }\n",
       "</style>\n",
       "<table border=\"1\" class=\"dataframe\">\n",
       "  <thead>\n",
       "    <tr style=\"text-align: right;\">\n",
       "      <th></th>\n",
       "      <th>mpg</th>\n",
       "      <th>cylinders</th>\n",
       "      <th>displacement</th>\n",
       "      <th>weight</th>\n",
       "      <th>acceleration</th>\n",
       "      <th>model year</th>\n",
       "      <th>origin</th>\n",
       "    </tr>\n",
       "  </thead>\n",
       "  <tbody>\n",
       "    <tr>\n",
       "      <th>count</th>\n",
       "      <td>398.000000</td>\n",
       "      <td>398.000000</td>\n",
       "      <td>398.000000</td>\n",
       "      <td>398.000000</td>\n",
       "      <td>398.000000</td>\n",
       "      <td>398.000000</td>\n",
       "      <td>398.000000</td>\n",
       "    </tr>\n",
       "    <tr>\n",
       "      <th>mean</th>\n",
       "      <td>23.514573</td>\n",
       "      <td>5.454774</td>\n",
       "      <td>193.425879</td>\n",
       "      <td>2970.424623</td>\n",
       "      <td>15.568090</td>\n",
       "      <td>76.010050</td>\n",
       "      <td>1.572864</td>\n",
       "    </tr>\n",
       "    <tr>\n",
       "      <th>std</th>\n",
       "      <td>7.815984</td>\n",
       "      <td>1.701004</td>\n",
       "      <td>104.269838</td>\n",
       "      <td>846.841774</td>\n",
       "      <td>2.757689</td>\n",
       "      <td>3.697627</td>\n",
       "      <td>0.802055</td>\n",
       "    </tr>\n",
       "    <tr>\n",
       "      <th>min</th>\n",
       "      <td>9.000000</td>\n",
       "      <td>3.000000</td>\n",
       "      <td>68.000000</td>\n",
       "      <td>1613.000000</td>\n",
       "      <td>8.000000</td>\n",
       "      <td>70.000000</td>\n",
       "      <td>1.000000</td>\n",
       "    </tr>\n",
       "    <tr>\n",
       "      <th>25%</th>\n",
       "      <td>17.500000</td>\n",
       "      <td>4.000000</td>\n",
       "      <td>104.250000</td>\n",
       "      <td>2223.750000</td>\n",
       "      <td>13.825000</td>\n",
       "      <td>73.000000</td>\n",
       "      <td>1.000000</td>\n",
       "    </tr>\n",
       "    <tr>\n",
       "      <th>50%</th>\n",
       "      <td>23.000000</td>\n",
       "      <td>4.000000</td>\n",
       "      <td>148.500000</td>\n",
       "      <td>2803.500000</td>\n",
       "      <td>15.500000</td>\n",
       "      <td>76.000000</td>\n",
       "      <td>1.000000</td>\n",
       "    </tr>\n",
       "    <tr>\n",
       "      <th>75%</th>\n",
       "      <td>29.000000</td>\n",
       "      <td>8.000000</td>\n",
       "      <td>262.000000</td>\n",
       "      <td>3608.000000</td>\n",
       "      <td>17.175000</td>\n",
       "      <td>79.000000</td>\n",
       "      <td>2.000000</td>\n",
       "    </tr>\n",
       "    <tr>\n",
       "      <th>max</th>\n",
       "      <td>46.600000</td>\n",
       "      <td>8.000000</td>\n",
       "      <td>455.000000</td>\n",
       "      <td>5140.000000</td>\n",
       "      <td>24.800000</td>\n",
       "      <td>82.000000</td>\n",
       "      <td>3.000000</td>\n",
       "    </tr>\n",
       "  </tbody>\n",
       "</table>\n",
       "</div>"
      ],
      "text/plain": [
       "              mpg   cylinders  displacement       weight  acceleration   \n",
       "count  398.000000  398.000000    398.000000   398.000000    398.000000  \\\n",
       "mean    23.514573    5.454774    193.425879  2970.424623     15.568090   \n",
       "std      7.815984    1.701004    104.269838   846.841774      2.757689   \n",
       "min      9.000000    3.000000     68.000000  1613.000000      8.000000   \n",
       "25%     17.500000    4.000000    104.250000  2223.750000     13.825000   \n",
       "50%     23.000000    4.000000    148.500000  2803.500000     15.500000   \n",
       "75%     29.000000    8.000000    262.000000  3608.000000     17.175000   \n",
       "max     46.600000    8.000000    455.000000  5140.000000     24.800000   \n",
       "\n",
       "       model year      origin  \n",
       "count  398.000000  398.000000  \n",
       "mean    76.010050    1.572864  \n",
       "std      3.697627    0.802055  \n",
       "min     70.000000    1.000000  \n",
       "25%     73.000000    1.000000  \n",
       "50%     76.000000    1.000000  \n",
       "75%     79.000000    2.000000  \n",
       "max     82.000000    3.000000  "
      ]
     },
     "execution_count": 64,
     "metadata": {},
     "output_type": "execute_result"
    }
   ],
   "source": [
    "df.describe()"
   ]
  },
  {
   "cell_type": "code",
   "execution_count": 75,
   "metadata": {},
   "outputs": [
    {
     "name": "stdout",
     "output_type": "stream",
     "text": [
      "correlation coefficient = \n",
      "\n",
      "             mpg    weight\n",
      "mpg     1.000000 -0.831741\n",
      "weight -0.831741  1.000000\n"
     ]
    },
    {
     "data": {
      "image/png": "[encoded data removed]",
      "text/plain": [
       "<Figure size 640x480 with 1 Axes>"
      ]
     },
     "metadata": {},
     "output_type": "display_data"
    },
    {
     "name": "stdout",
     "output_type": "stream",
     "text": [
      "mpg             float64\n",
      "cylinders         int64\n",
      "displacement    float64\n",
      "weight          float64\n",
      "acceleration    float64\n",
      "model year        int64\n",
      "origin            int64\n",
      "dtype: object\n",
      "                   mpg  cylinders  displacement    weight  acceleration   \n",
      "mpg           1.000000  -0.775396     -0.804203 -0.831741      0.420289  \\\n",
      "cylinders    -0.775396   1.000000      0.950721  0.896017     -0.505419   \n",
      "displacement -0.804203   0.950721      1.000000  0.932824     -0.543684   \n",
      "weight       -0.831741   0.896017      0.932824  1.000000     -0.417457   \n",
      "acceleration  0.420289  -0.505419     -0.543684 -0.417457      1.000000   \n",
      "model year    0.579267  -0.348746     -0.370164 -0.306564      0.288137   \n",
      "origin        0.563450  -0.562543     -0.609409 -0.581024      0.205873   \n",
      "\n",
      "              model year    origin  \n",
      "mpg             0.579267  0.563450  \n",
      "cylinders      -0.348746 -0.562543  \n",
      "displacement   -0.370164 -0.609409  \n",
      "weight         -0.306564 -0.581024  \n",
      "acceleration    0.288137  0.205873  \n",
      "model year      1.000000  0.180662  \n",
      "origin          0.180662  1.000000  \n"
     ]
    }
   ],
   "source": [
    "print('correlation coefficient = \\n')\n",
    "print(df[['mpg','weight']].corr())\n",
    "\n",
    "plt.scatter(df['weight'], df['mpg'], s=20)\n",
    "plt.xlabel('weight')\n",
    "plt.ylabel('mpg')\n",
    "plt.show()\n",
    "\n",
    "df_num = df.select_dtypes(include= 'number')\n",
    "print(df_num.dtypes)\n",
    "print(df_num.corr())"
   ]
  },
  {
   "cell_type": "code",
   "execution_count": 81,
   "metadata": {},
   "outputs": [
    {
     "name": "stdout",
     "output_type": "stream",
     "text": [
      "       1990  1991  1992  1993  1994  1995  1996  1997  1998  1999  ...  2007   \n",
      "south  1077  1186  1310  1444  1650  1847  2055  2244  2153  2393  ...  4031  \\\n",
      "north   277   263   247   221   231   230   213   193   170   186  ...   236   \n",
      "\n",
      "       2008  2009  2010  2011  2012  2013  2014  2015  2016  \n",
      "south  4224  4336  4747  4969  5096  5171  5220  5281  5404  \n",
      "north   255   235   237   211   215   221   216   190   239  \n",
      "\n",
      "[2 rows x 27 columns]\n"
     ]
    }
   ],
   "source": [
    "df = pd.read_excel('./남북한발전전력량.xlsx')\n",
    "\n",
    "# print(df.head())\n",
    "\n",
    "df_ns = df.iloc[[0,5],2:]\n",
    "\n",
    "df_ns.index = ['south', 'north']\n",
    "print(df_ns)"
   ]
  },
  {
   "cell_type": "code",
   "execution_count": 83,
   "metadata": {},
   "outputs": [
    {
     "data": {
      "text/plain": [
       "Index([1990, 1991, 1992, 1993, 1994, 1995, 1996, 1997, 1998, 1999, 2000, 2001,\n",
       "       2002, 2003, 2004, 2005, 2006, 2007, 2008, 2009, 2010, 2011, 2012, 2013,\n",
       "       2014, 2015, 2016],\n",
       "      dtype='int64')"
      ]
     },
     "execution_count": 83,
     "metadata": {},
     "output_type": "execute_result"
    }
   ],
   "source": [
    "df_ns.columns = df_ns.columns.map(int)\n",
    "\n"
   ]
  },
  {
   "cell_type": "code",
   "execution_count": 100,
   "metadata": {},
   "outputs": [
    {
     "data": {
      "text/plain": [
       "<Axes: >"
      ]
     },
     "execution_count": 100,
     "metadata": {},
     "output_type": "execute_result"
    },
    {
     "data": {
      "image/png": "[encoded data removed]",
      "text/plain": [
       "<Figure size 640x480 with 1 Axes>"
      ]
     },
     "metadata": {},
     "output_type": "display_data"
    },
    {
     "data": {
      "image/png": "[encoded data removed]",
      "text/plain": [
       "<Figure size 640x480 with 1 Axes>"
      ]
     },
     "metadata": {},
     "output_type": "display_data"
    }
   ],
   "source": [
    "df_ns.head()\n",
    "\n",
    "#df_ns.plot()\n",
    "\n",
    "df_nsTran = df_ns.T\n",
    "\n",
    "df_nsTran.plot()\n",
    "#df_nsTran.plot(kind='scatter', x = 'south', y = 'north')\n",
    "\n",
    "df_nsTran.plot(kind= 'bar', y = ['south','north'], legend= None)\n",
    "\n"
   ]
  },
  {
   "cell_type": "code",
   "execution_count": 102,
   "metadata": {},
   "outputs": [
    {
     "data": {
      "text/plain": [
       "<Axes: ylabel='Frequency'>"
      ]
     },
     "execution_count": 102,
     "metadata": {},
     "output_type": "execute_result"
    },
    {
     "data": {
      "image/png": "[encoded data removed]",
      "text/plain": [
       "<Figure size 640x480 with 1 Axes>"
      ]
     },
     "metadata": {},
     "output_type": "display_data"
    }
   ],
   "source": [
    "df_nsTran['south'].plot(kind= 'hist')\n",
    "df_nsTran['north'].plot(kind= 'hist')"
   ]
  },
  {
   "cell_type": "code",
   "execution_count": 104,
   "metadata": {},
   "outputs": [
    {
     "data": {
      "text/plain": [
       "<Axes: xlabel='weight', ylabel='mpg'>"
      ]
     },
     "execution_count": 104,
     "metadata": {},
     "output_type": "execute_result"
    },
    {
     "data": {
      "image/png": "[encoded data removed]",
      "text/plain": [
       "<Figure size 640x480 with 1 Axes>"
      ]
     },
     "metadata": {},
     "output_type": "display_data"
    }
   ],
   "source": [
    "df = pd.read_csv('./auto-mpg.csv', header= None)\n",
    "df.columns = ['mpg','cylinders','displacement','horsepower','weight',\n",
    "              'acceleration','model year','origin','name']\n",
    "df.head()\n",
    "\n",
    "df.plot(kind= 'scatter', x = 'weight', y='mpg', color = 'red',\n",
    "        s = 60, alpha = 0.5, marker = '+')"
   ]
  },
  {
   "cell_type": "code",
   "execution_count": 106,
   "metadata": {},
   "outputs": [
    {
     "data": {
      "text/plain": [
       "<Axes: >"
      ]
     },
     "execution_count": 106,
     "metadata": {},
     "output_type": "execute_result"
    },
    {
     "data": {
      "image/png": "[encoded data removed]",
      "text/plain": [
       "<Figure size 640x480 with 1 Axes>"
      ]
     },
     "metadata": {},
     "output_type": "display_data"
    },
    {
     "data": {
      "image/png": "[encoded data removed]",
      "text/plain": [
       "<Figure size 640x480 with 1 Axes>"
      ]
     },
     "metadata": {},
     "output_type": "display_data"
    }
   ],
   "source": [
    "df[['mpg','cylinders']].plot(kind= 'box')\n",
    "df.plot(kind= 'box', y=['mpg','cylinders'])"
   ]
  }
 ],
 "metadata": {
  "kernelspec": {
   "display_name": "pandas_sample",
   "language": "python",
   "name": "python3"
  },
  "language_info": {
   "codemirror_mode": {
    "name": "ipython",
    "version": 3
   },
   "file_extension": ".py",
   "mimetype": "text/x-python",
   "name": "python",
   "nbconvert_exporter": "python",
   "pygments_lexer": "ipython3",
   "version": "3.11.3"
  },
  "orig_nbformat": 4
 },
 "nbformat": 4,
 "nbformat_minor": 2
}
