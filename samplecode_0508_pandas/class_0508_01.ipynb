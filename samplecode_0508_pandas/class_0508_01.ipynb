{
 "cells": [
  {
   "cell_type": "code",
   "execution_count": 1,
   "metadata": {},
   "outputs": [],
   "source": [
    "import numpy as np\n",
    "import pandas as pd"
   ]
  },
  {
   "cell_type": "code",
   "execution_count": 6,
   "metadata": {},
   "outputs": [
    {
     "name": "stdout",
     "output_type": "stream",
     "text": [
      "1     apple\n",
      "2    banana\n",
      "3     grape\n",
      "dtype: object\n",
      "1     apple\n",
      "2    banana\n",
      "3     grape\n",
      "dtype: object\n",
      "2    banana\n",
      "3     grape\n",
      "dtype: object\n",
      "2    banana\n",
      "3     grape\n",
      "dtype: object\n"
     ]
    }
   ],
   "source": [
    "sr_list = pd.Series([\"apple\", \"banana\", \"grape\"],\n",
    "                    index= [1,2,3])\n",
    "\n",
    "sr_dict = pd.Series({1: 'apple', 2: 'banana', 3: 'grape'})\n",
    "\n",
    "print(sr_list)\n",
    "print(sr_dict)\n",
    "\n",
    "print(sr_dict.iloc[1:])\n",
    "print(sr_dict.loc[2:])"
   ]
  },
  {
   "cell_type": "code",
   "execution_count": 8,
   "metadata": {},
   "outputs": [
    {
     "name": "stdout",
     "output_type": "stream",
     "text": [
      "   c0  c1 c2\n",
      "1   1  10  A\n",
      "2   2  10  B\n",
      "3   3  10  C\n"
     ]
    }
   ],
   "source": [
    "dict_data = {\n",
    "    'c0': [1,2,3],\n",
    "    'c1': 10,\n",
    "    'c2': list('ABC')\n",
    "}\n",
    "\n",
    "df = pd.DataFrame(dict_data,\n",
    "                  index= range(1,4))\n",
    "\n",
    "print(df)"
   ]
  },
  {
   "cell_type": "code",
   "execution_count": 10,
   "metadata": {},
   "outputs": [
    {
     "name": "stdout",
     "output_type": "stream",
     "text": [
      "   수학  영어 성별   합격여부\n",
      "1  90  80  남  False\n",
      "2  80  89  남   True\n",
      "3  70  95  여  False\n"
     ]
    }
   ],
   "source": [
    "df_from_list = pd.DataFrame([[90,80,'남', False],\n",
    "                [80,89,'남', True],\n",
    "                [70,95,'여', False]],\n",
    "                            columns= ['수학', '영어', '성별', '합격여부'],\n",
    "                            index= [1,2,3])\n",
    "print(df_from_list)"
   ]
  },
  {
   "cell_type": "code",
   "execution_count": 11,
   "metadata": {},
   "outputs": [
    {
     "name": "stdout",
     "output_type": "stream",
     "text": [
      "     과학  영어 성별   합격여부\n",
      "학생1  90  80  남  False\n",
      "2    80  89  남   True\n",
      "3    70  95  여  False\n"
     ]
    }
   ],
   "source": [
    "df_from_list.rename(columns={'수학':'과학'},\n",
    "                    index= {1:'학생1'},inplace=True)\n",
    "print(df_from_list)"
   ]
  },
  {
   "cell_type": "code",
   "execution_count": 12,
   "metadata": {},
   "outputs": [
    {
     "name": "stdout",
     "output_type": "stream",
     "text": [
      "     과학  영어 성별\n",
      "학생1  90  80  남\n",
      "2    80  89  남\n",
      "3    70  95  여\n",
      "     과학  영어 성별   합격여부\n",
      "학생1  90  80  남  False\n",
      "2    80  89  남   True\n",
      "3    70  95  여  False\n"
     ]
    }
   ],
   "source": [
    "saved_df = df_from_list.copy()\n",
    "\n",
    "df_from_list.drop(['합격여부'], axis=1, inplace=True)\n",
    "print(df_from_list)\n",
    "print(saved_df)"
   ]
  },
  {
   "cell_type": "code",
   "execution_count": 13,
   "metadata": {},
   "outputs": [
    {
     "name": "stdout",
     "output_type": "stream",
     "text": [
      "    수학  영어   음악   체육\n",
      "길동  90  98   85  100\n",
      "흥민  80  89   95   90\n",
      "민재  70  95  100   90\n"
     ]
    }
   ],
   "source": [
    "exam_data = {\n",
    "    '수학': [90, 80, 70],\n",
    "    '영어': [98, 89, 95],\n",
    "    '음악': [85, 95, 100],\n",
    "    '체육':[ 100, 90, 90]\n",
    "}\n",
    "\n",
    "df = pd.DataFrame(exam_data,\n",
    "                  index= ['길동', '흥민', '민재'])\n",
    "print(df)"
   ]
  },
  {
   "cell_type": "code",
   "execution_count": 18,
   "metadata": {},
   "outputs": [
    {
     "name": "stdout",
     "output_type": "stream",
     "text": [
      "    영어  체육\n",
      "흥민  89  90\n",
      "민재  95  90\n",
      "     음악  체육\n",
      "흥민   95  90\n",
      "민재  100  90\n"
     ]
    }
   ],
   "source": [
    "df['수학']\n",
    "\n",
    "print(df.loc['흥민':,['영어','체육']])\n",
    "print(df.iloc[1:,2:])"
   ]
  },
  {
   "cell_type": "code",
   "execution_count": 19,
   "metadata": {},
   "outputs": [
    {
     "name": "stdout",
     "output_type": "stream",
     "text": [
      "    수학  영어   음악   체육\n",
      "길동  90  98   85  100\n",
      "흥민  80  89   95   90\n",
      "민재  70  95  100   90\n",
      "       영어   음악   체육\n",
      "   수학              \n",
      "길동 90  98   85  100\n",
      "흥민 80  89   95   90\n",
      "민재 70  95  100   90\n"
     ]
    }
   ],
   "source": [
    "print(df)\n",
    "\n",
    "df.set_index('수학', inplace=True, append= True)\n",
    "\n",
    "print(df)"
   ]
  },
  {
   "cell_type": "code",
   "execution_count": 20,
   "metadata": {},
   "outputs": [
    {
     "name": "stdout",
     "output_type": "stream",
     "text": [
      "       영어   음악   체육\n",
      "   수학              \n",
      "길동 90  98   85  100\n",
      "흥민 80  89   95   90\n",
      "민재 70  95  100   90\n",
      "       영어   음악   체육\n",
      "   수학              \n",
      "민재 70  95  100   90\n",
      "흥민 80  89   95   90\n",
      "길동 90  98   85  100\n"
     ]
    }
   ],
   "source": [
    "print(df)\n",
    "\n",
    "df_sorted = df.sort_values(by='음악', ascending= False)\n",
    "\n",
    "print(df_sorted)"
   ]
  },
  {
   "cell_type": "code",
   "execution_count": 21,
   "metadata": {},
   "outputs": [
    {
     "name": "stdout",
     "output_type": "stream",
     "text": [
      "국어    190\n",
      "수학    170\n",
      "영어    160\n",
      "dtype: int64\n"
     ]
    }
   ],
   "source": [
    "student1_pre = pd.Series({'국어':100, '영어':80, '수학':90})\n",
    "student1_post = pd.Series({'수학':80, '국어':90, '영어':80})\n",
    "\n",
    "addition = student1_pre + student1_post\n",
    "print(addition)"
   ]
  },
  {
   "cell_type": "code",
   "execution_count": 22,
   "metadata": {},
   "outputs": [
    {
     "name": "stdout",
     "output_type": "stream",
     "text": [
      "     survived  pclass     sex   age  sibsp  parch     fare embarked   class   \n",
      "0           0       3    male  22.0      1      0   7.2500        S   Third  \\\n",
      "1           1       1  female  38.0      1      0  71.2833        C   First   \n",
      "2           1       3  female  26.0      0      0   7.9250        S   Third   \n",
      "3           1       1  female  35.0      1      0  53.1000        S   First   \n",
      "4           0       3    male  35.0      0      0   8.0500        S   Third   \n",
      "..        ...     ...     ...   ...    ...    ...      ...      ...     ...   \n",
      "886         0       2    male  27.0      0      0  13.0000        S  Second   \n",
      "887         1       1  female  19.0      0      0  30.0000        S   First   \n",
      "888         0       3  female   NaN      1      2  23.4500        S   Third   \n",
      "889         1       1    male  26.0      0      0  30.0000        C   First   \n",
      "890         0       3    male  32.0      0      0   7.7500        Q   Third   \n",
      "\n",
      "       who  adult_male deck  embark_town alive  alone  \n",
      "0      man        True  NaN  Southampton    no  False  \n",
      "1    woman       False    C    Cherbourg   yes  False  \n",
      "2    woman       False  NaN  Southampton   yes   True  \n",
      "3    woman       False    C  Southampton   yes  False  \n",
      "4      man        True  NaN  Southampton    no   True  \n",
      "..     ...         ...  ...          ...   ...    ...  \n",
      "886    man        True  NaN  Southampton    no   True  \n",
      "887  woman       False    B  Southampton   yes   True  \n",
      "888  woman       False  NaN  Southampton    no  False  \n",
      "889    man        True    C    Cherbourg   yes   True  \n",
      "890    man        True  NaN   Queenstown    no   True  \n",
      "\n",
      "[891 rows x 15 columns]\n"
     ]
    }
   ],
   "source": [
    "import seaborn as sns\n",
    "\n",
    "titanic = sns.load_dataset('titanic')\n",
    "print(titanic)"
   ]
  },
  {
   "cell_type": "code",
   "execution_count": 24,
   "metadata": {},
   "outputs": [
    {
     "name": "stdout",
     "output_type": "stream",
     "text": [
      "     survived     sex     fare      won\n",
      "0           0    male   7.2500   72.500\n",
      "1           1  female  71.2833  712.833\n",
      "2           1  female   7.9250   79.250\n",
      "3           1  female  53.1000  531.000\n",
      "4           0    male   8.0500   80.500\n",
      "..        ...     ...      ...      ...\n",
      "886         0    male  13.0000  130.000\n",
      "887         1  female  30.0000  300.000\n",
      "888         0  female  23.4500  234.500\n",
      "889         1    male  30.0000  300.000\n",
      "890         0    male   7.7500   77.500\n",
      "\n",
      "[891 rows x 4 columns]\n"
     ]
    }
   ],
   "source": [
    "data_titanic = titanic.loc[:, ['survived','sex','fare']]\n",
    "\n",
    "data_titanic_fare = titanic.loc[:,'fare'] * 10\n",
    "\n",
    "data_titanic['won'] = data_titanic_fare\n",
    "\n",
    "print(data_titanic)"
   ]
  }
 ],
 "metadata": {
  "kernelspec": {
   "display_name": "pandas_sample",
   "language": "python",
   "name": "python3"
  },
  "language_info": {
   "codemirror_mode": {
    "name": "ipython",
    "version": 3
   },
   "file_extension": ".py",
   "mimetype": "text/x-python",
   "name": "python",
   "nbconvert_exporter": "python",
   "pygments_lexer": "ipython3",
   "version": "3.11.3"
  },
  "orig_nbformat": 4
 },
 "nbformat": 4,
 "nbformat_minor": 2
}
