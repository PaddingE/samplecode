{
 "cells": [
  {
   "cell_type": "code",
   "execution_count": 3,
   "metadata": {},
   "outputs": [
    {
     "name": "stdout",
     "output_type": "stream",
     "text": [
      "2.0.1\n"
     ]
    }
   ],
   "source": [
    "# ! pip install pandas\n",
    "\n",
    "import pandas as pd\n",
    "import numpy as np\n",
    "\n",
    "print(pd.__version__)"
   ]
  },
  {
   "cell_type": "code",
   "execution_count": 5,
   "metadata": {},
   "outputs": [
    {
     "name": "stdout",
     "output_type": "stream",
     "text": [
      "[[1, 2], [3, 4, 5]]\n"
     ]
    },
    {
     "data": {
      "text/plain": [
       "array(['10', 'apple', 'True'], dtype='<U11')"
      ]
     },
     "execution_count": 5,
     "metadata": {},
     "output_type": "execute_result"
    }
   ],
   "source": [
    "## list\n",
    "\n",
    "a = [1,2,3,4]\n",
    "\n",
    "a[1:3]\n",
    "\n",
    "##\n",
    "b = [[1,2],[3,4,5]]\n",
    "print(b)\n",
    "\n",
    "##\n",
    "c = [10, 'apple', True]\n",
    "\n",
    "np.array(c)"
   ]
  },
  {
   "cell_type": "code",
   "execution_count": 11,
   "metadata": {},
   "outputs": [
    {
     "name": "stdout",
     "output_type": "stream",
     "text": [
      "a =  [0 1 2 3 4]\n",
      "<class 'numpy.ndarray'>\n",
      "[2 3 4]\n",
      "shape =  (5,)\n",
      "dtype =  int32\n"
     ]
    }
   ],
   "source": [
    "## numpy\n",
    "\n",
    "a = np.array([0,1,2,3,4])\n",
    "print(\"a = \",a)\n",
    "print(type(a))\n",
    "\n",
    "print(a[2:])\n",
    "\n",
    "## attribute\n",
    "print(\"shape = \",a.shape)\n",
    "print(\"dtype = \",a.dtype)"
   ]
  },
  {
   "cell_type": "code",
   "execution_count": 13,
   "metadata": {},
   "outputs": [
    {
     "name": "stdout",
     "output_type": "stream",
     "text": [
      "[1, 2, 3, 4]\n",
      "[[1 2]\n",
      " [4 5]\n",
      " [7 8]]\n",
      "(3, 2)\n",
      "int32\n"
     ]
    }
   ],
   "source": [
    "print(list(range(1,5)))\n",
    "\n",
    "array = np.array([range(i, i+2) for i in [1, 4, 7]])\n",
    "print(array)\n",
    "\n",
    "print(array.shape)\n",
    "print(array.dtype)"
   ]
  },
  {
   "cell_type": "code",
   "execution_count": 15,
   "metadata": {},
   "outputs": [
    {
     "name": "stdout",
     "output_type": "stream",
     "text": [
      "(2,) [0 1]\n",
      "(1, 2) [[0 1]]\n"
     ]
    }
   ],
   "source": [
    "a = np.array([0, 1])\n",
    "b = np.array([[0, 1]])\n",
    "\n",
    "print(a.shape, a)\n",
    "print(b.shape, b)"
   ]
  },
  {
   "cell_type": "code",
   "execution_count": 19,
   "metadata": {},
   "outputs": [
    {
     "name": "stdout",
     "output_type": "stream",
     "text": [
      "[[1. 0. 0. 0. 0.]\n",
      " [0. 1. 0. 0. 0.]\n",
      " [0. 0. 1. 0. 0.]]\n",
      "\n",
      "[[1. 0. 0.]\n",
      " [0. 1. 0.]\n",
      " [0. 0. 1.]]\n",
      "[[1. 0. 0. 0. 0.]\n",
      " [0. 1. 0. 0. 0.]\n",
      " [0. 0. 1. 0. 0.]\n",
      " [0. 0. 0. 1. 0.]\n",
      " [0. 0. 0. 0. 1.]]\n"
     ]
    }
   ],
   "source": [
    "##\n",
    "print(np.eye(3,5))\n",
    "print()\n",
    "\n",
    "print(np.identity(3))\n",
    "print(np.identity(5))"
   ]
  },
  {
   "cell_type": "code",
   "execution_count": 20,
   "metadata": {},
   "outputs": [
    {
     "data": {
      "text/plain": [
       "array([[0., 0., 0., 0.],\n",
       "       [0., 0., 0., 0.],\n",
       "       [0., 0., 0., 0.]])"
      ]
     },
     "execution_count": 20,
     "metadata": {},
     "output_type": "execute_result"
    }
   ],
   "source": [
    "##\n",
    "np.zeros([3,4])"
   ]
  },
  {
   "cell_type": "code",
   "execution_count": 21,
   "metadata": {},
   "outputs": [
    {
     "data": {
      "text/plain": [
       "array([[1., 1., 1., 1., 1.],\n",
       "       [1., 1., 1., 1., 1.],\n",
       "       [1., 1., 1., 1., 1.]])"
      ]
     },
     "execution_count": 21,
     "metadata": {},
     "output_type": "execute_result"
    }
   ],
   "source": [
    "np.ones((3,5))"
   ]
  },
  {
   "cell_type": "code",
   "execution_count": 22,
   "metadata": {},
   "outputs": [
    {
     "data": {
      "text/plain": [
       "array([[4, 4, 4, 4],\n",
       "       [4, 4, 4, 4],\n",
       "       [4, 4, 4, 4],\n",
       "       [4, 4, 4, 4],\n",
       "       [4, 4, 4, 4]])"
      ]
     },
     "execution_count": 22,
     "metadata": {},
     "output_type": "execute_result"
    }
   ],
   "source": [
    "np.full((5,4), 4)"
   ]
  },
  {
   "cell_type": "code",
   "execution_count": 23,
   "metadata": {},
   "outputs": [
    {
     "data": {
      "text/plain": [
       "array([[1, 2],\n",
       "       [3, 4]])"
      ]
     },
     "execution_count": 23,
     "metadata": {},
     "output_type": "execute_result"
    }
   ],
   "source": [
    "##\n",
    "np.array([[1,2],[3,4]])"
   ]
  },
  {
   "cell_type": "code",
   "execution_count": 25,
   "metadata": {},
   "outputs": [
    {
     "name": "stdout",
     "output_type": "stream",
     "text": [
      "[1, 3, 5, 7]\n",
      "[1 3 5 7]\n"
     ]
    }
   ],
   "source": [
    "## range\n",
    "\n",
    "print(list(range(1,8,2)))\n",
    "\n",
    "print(np.arange(1,8,2))"
   ]
  },
  {
   "cell_type": "code",
   "execution_count": 29,
   "metadata": {},
   "outputs": [
    {
     "name": "stdout",
     "output_type": "stream",
     "text": [
      "[[ 1  3  5  7  9]\n",
      " [ 3  5  7  9 11]]\n",
      "\n",
      "shape =  (2, 5)\n",
      "dtype =  int64\n"
     ]
    }
   ],
   "source": [
    "a = np.arange(1,10,2)\n",
    "b = np.arange(3,12,2)\n",
    "\n",
    "c = np.array([a,b],dtype=np.int64)\n",
    "\n",
    "\n",
    "print(c)\n",
    "print()\n",
    "print(\"shape = \",c.shape)\n",
    "print(\"dtype = \",c.dtype)"
   ]
  },
  {
   "cell_type": "code",
   "execution_count": 32,
   "metadata": {},
   "outputs": [
    {
     "name": "stdout",
     "output_type": "stream",
     "text": [
      "[[2 0 0 0 0]\n",
      " [0 2 0 0 0]\n",
      " [0 0 2 0 0]\n",
      " [0 0 0 2 0]\n",
      " [0 0 0 0 2]]\n",
      "shape =  (5, 5)\n",
      "dtype =  int64\n"
     ]
    }
   ],
   "source": [
    "a = np.identity(5, dtype= np.int64) * 2\n",
    "\n",
    "print(a)\n",
    "\n",
    "print(\"shape = \", a.shape)\n",
    "print(\"dtype = \", a.dtype)"
   ]
  },
  {
   "cell_type": "code",
   "execution_count": 36,
   "metadata": {},
   "outputs": [
    {
     "name": "stdout",
     "output_type": "stream",
     "text": [
      "[ 0  1  2  3  4  5  6  7  8  9 10 11]\n",
      "\n",
      "[[ 0  1  2  3]\n",
      " [ 4  5  6  7]\n",
      " [ 8  9 10 11]]\n",
      "\n",
      "[[ 0  1  2]\n",
      " [ 3  4  5]\n",
      " [ 6  7  8]\n",
      " [ 9 10 11]]\n",
      "\n",
      "[[ 0  1  2]\n",
      " [ 3  4  5]\n",
      " [ 6  7  8]\n",
      " [ 9 10 11]]\n",
      "\n",
      "[[ 0  1]\n",
      " [ 2  3]\n",
      " [ 4  5]\n",
      " [ 6  7]\n",
      " [ 8  9]\n",
      " [10 11]]\n"
     ]
    }
   ],
   "source": [
    "array = np.arange(12)\n",
    "arr_3by4 = array.reshape(3,4)\n",
    "arr_4by3 = array.reshape(4,3)\n",
    "arr_5by3 = array.reshape(-1,3)\n",
    "arr_5by2 = array.reshape(-1,2)\n",
    "\n",
    "print(array)\n",
    "print()\n",
    "print(arr_3by4)\n",
    "print()\n",
    "print(arr_4by3)\n",
    "print()\n",
    "print(arr_5by3)\n",
    "print()\n",
    "print(arr_5by2)"
   ]
  },
  {
   "cell_type": "code",
   "execution_count": 38,
   "metadata": {},
   "outputs": [
    {
     "name": "stdout",
     "output_type": "stream",
     "text": [
      "[[ 0  1  2]\n",
      " [ 3  4  5]\n",
      " [ 6  7  8]\n",
      " [ 9 10 11]]\n",
      "[0, 1, 2, 3, 4, 5, 6, 7, 8, 9, 10, 11]\n",
      "[[ 0  3  6  9]\n",
      " [ 1  4  7 10]\n",
      " [ 2  5  8 11]]\n"
     ]
    }
   ],
   "source": [
    "print(arr_5by3)\n",
    "print(list(arr_5by3.flat))\n",
    "print(arr_5by3.T)"
   ]
  },
  {
   "cell_type": "code",
   "execution_count": 43,
   "metadata": {},
   "outputs": [
    {
     "name": "stdout",
     "output_type": "stream",
     "text": [
      "[[[0]\n",
      "  [1]\n",
      "  [2]]]\n",
      "(1, 3, 1)\n",
      "\n",
      "[[[0 1 2]]]\n",
      "[[[0]]\n",
      "\n",
      " [[1]]\n",
      "\n",
      " [[2]]]\n"
     ]
    }
   ],
   "source": [
    "a = np.array([[[0],[1],[2]]])\n",
    "\n",
    "print(a)\n",
    "print(a.shape)\n",
    "print()\n",
    "print(a.reshape(1,1,3))\n",
    "print()\n",
    "print(a.reshape(3,1,1))"
   ]
  },
  {
   "cell_type": "code",
   "execution_count": 47,
   "metadata": {},
   "outputs": [
    {
     "name": "stdout",
     "output_type": "stream",
     "text": [
      "[[[0]\n",
      "  [1]\n",
      "  [2]]]\n",
      "(1, 3, 1)\n",
      "[[0]\n",
      " [1]\n",
      " [2]]\n",
      "(3, 1)\n",
      "\n",
      "[[0 1 2]]\n",
      "(1, 3)\n"
     ]
    }
   ],
   "source": [
    "print(a)\n",
    "print(a.shape)\n",
    "\n",
    "a.squeeze()\n",
    "print(a.squeeze(axis= 0))\n",
    "print(a.squeeze(axis= 0).shape)\n",
    "print()\n",
    "print(a.squeeze(axis= 2))\n",
    "print(a.squeeze(axis= 2).shape)"
   ]
  },
  {
   "cell_type": "code",
   "execution_count": 49,
   "metadata": {},
   "outputs": [
    {
     "name": "stdout",
     "output_type": "stream",
     "text": [
      "[[1 2 3]\n",
      " [3 5 1]\n",
      " [1 4 4]]\n"
     ]
    }
   ],
   "source": [
    "## vstack\n",
    "\n",
    "a = np.array([1,2,3])\n",
    "b = np.array([3,5,1])\n",
    "c = np.array([1,4,4])\n",
    "\n",
    "d =np.vstack([a,b,c])\n",
    "print(d)"
   ]
  },
  {
   "cell_type": "code",
   "execution_count": 53,
   "metadata": {},
   "outputs": [
    {
     "name": "stdout",
     "output_type": "stream",
     "text": [
      "hstack = \n",
      " [[1 4]\n",
      " [2 5]\n",
      " [3 6]]\n",
      "vstack = \n",
      " [[1]\n",
      " [2]\n",
      " [3]\n",
      " [4]\n",
      " [5]\n",
      " [6]]\n"
     ]
    }
   ],
   "source": [
    "#a = np.array([1,2,3])\n",
    "#b = np.array([3,5,1])\n",
    "\n",
    "a = np.array([[1],[2],[3]])\n",
    "b = np.array([[4],[5],[6]])\n",
    "\n",
    "print(\"hstack = \\n\", np.hstack([a,b]))\n",
    "print(\"vstack = \\n\", np.vstack([a,b]))"
   ]
  },
  {
   "cell_type": "code",
   "execution_count": 57,
   "metadata": {},
   "outputs": [
    {
     "name": "stdout",
     "output_type": "stream",
     "text": [
      "[1 2 3 4 5] [2 3 4 5 6]\n",
      "hstack = \n",
      " [1 2 3 4 5 2 3 4 5 6]\n",
      "vstack = \n",
      " [[1 2 3 4 5]\n",
      " [2 3 4 5 6]]\n",
      "column_stack = \n",
      " [[1 2]\n",
      " [2 3]\n",
      " [3 4]\n",
      " [4 5]\n",
      " [5 6]]\n"
     ]
    }
   ],
   "source": [
    "a = np.arange(1,6)\n",
    "b = np.arange(2,7)\n",
    "\n",
    "print(a,b)\n",
    "print(\"hstack = \\n\", np.hstack([a,b]))\n",
    "print(\"vstack = \\n\", np.vstack([a,b]))\n",
    "print(\"column_stack = \\n\", np.column_stack([a,b]))\n"
   ]
  },
  {
   "cell_type": "code",
   "execution_count": 61,
   "metadata": {},
   "outputs": [
    {
     "name": "stdout",
     "output_type": "stream",
     "text": [
      "[[1 2 3 4]\n",
      " [2 4 5 8]\n",
      " [6 6 5 4]]\n",
      "[[1 2 6]\n",
      " [2 4 6]\n",
      " [3 5 5]\n",
      " [4 8 4]]\n"
     ]
    }
   ],
   "source": [
    "A = [[1,2,3,4],\n",
    "     [2,4,5,8]]\n",
    "\n",
    "B = [6,6,5,4]\n",
    "\n",
    "AB = np.vstack([A,B])\n",
    "print(AB)\n",
    "print(AB.T)"
   ]
  },
  {
   "cell_type": "code",
   "execution_count": 63,
   "metadata": {},
   "outputs": [
    {
     "name": "stdout",
     "output_type": "stream",
     "text": [
      "[0.01246926 0.97831345 0.13538125 0.64464314 0.10793951]\n",
      "[[0.26690577 0.75989944 0.16134784 0.46790766 0.56979753]\n",
      " [0.45750847 0.00951737 0.47068692 0.01344995 0.41384831]\n",
      " [0.50784726 0.23180919 0.82086258 0.19930984 0.85203581]]\n"
     ]
    }
   ],
   "source": [
    "## random sampling\n",
    "\n",
    "## Uniform(균일분포), integer uniform, gaussian 분포(정규분포)\n",
    "\n",
    "print(np.random.rand(5))\n",
    "print(np.random.rand(3,5))"
   ]
  },
  {
   "cell_type": "code",
   "execution_count": 65,
   "metadata": {},
   "outputs": [
    {
     "data": {
      "text/plain": [
       "array([[6, 4],\n",
       "       [3, 2],\n",
       "       [2, 9]])"
      ]
     },
     "execution_count": 65,
     "metadata": {},
     "output_type": "execute_result"
    }
   ],
   "source": [
    "np.random.randint(1,10,(3,2))"
   ]
  },
  {
   "cell_type": "code",
   "execution_count": 81,
   "metadata": {},
   "outputs": [
    {
     "data": {
      "text/plain": [
       "array([[171.96989384, 171.60281757, 173.31554013],\n",
       "       [172.47119604, 173.26890398, 172.91296131],\n",
       "       [173.70758215, 172.36311393, 171.43689046]])"
      ]
     },
     "execution_count": 81,
     "metadata": {},
     "output_type": "execute_result"
    }
   ],
   "source": [
    "#np.random.seed(503)\n",
    "#np.random.randn(100)\n",
    "np.random.normal(172,1,(3,3))"
   ]
  },
  {
   "cell_type": "code",
   "execution_count": 90,
   "metadata": {},
   "outputs": [
    {
     "name": "stdout",
     "output_type": "stream",
     "text": [
      "[11.45981766 10.47126216  9.48686121  9.60310957 10.60019866  7.7079854\n",
      " 10.55663529 10.56167358 10.0015739  10.85562009]\n",
      "10.130473752217378\n",
      "10.513948724704893\n"
     ]
    }
   ],
   "source": [
    "a = np.random.normal(10,1,10)\n",
    "\n",
    "print(a)\n",
    "print(a.mean())\n",
    "print(np.median(a))"
   ]
  },
  {
   "cell_type": "code",
   "execution_count": 94,
   "metadata": {},
   "outputs": [
    {
     "name": "stdout",
     "output_type": "stream",
     "text": [
      "[[1 2]\n",
      " [3 4]]\n",
      "2.5\n",
      "[2. 3.]\n",
      "[1.5 3.5]\n"
     ]
    }
   ],
   "source": [
    "a = np.array([[1,2],[3,4]])\n",
    "\n",
    "print(a)\n",
    "print(a.mean())\n",
    "print(a.mean(axis=0))\n",
    "print(a.mean(axis=1))"
   ]
  },
  {
   "cell_type": "code",
   "execution_count": 97,
   "metadata": {},
   "outputs": [
    {
     "data": {
      "text/plain": [
       "1.118033988749895"
      ]
     },
     "execution_count": 97,
     "metadata": {},
     "output_type": "execute_result"
    }
   ],
   "source": [
    "np.std(a)"
   ]
  }
 ],
 "metadata": {
  "kernelspec": {
   "display_name": "Python 3",
   "language": "python",
   "name": "python3"
  },
  "language_info": {
   "codemirror_mode": {
    "name": "ipython",
    "version": 3
   },
   "file_extension": ".py",
   "mimetype": "text/x-python",
   "name": "python",
   "nbconvert_exporter": "python",
   "pygments_lexer": "ipython3",
   "version": "3.11.3"
  },
  "orig_nbformat": 4
 },
 "nbformat": 4,
 "nbformat_minor": 2
}
