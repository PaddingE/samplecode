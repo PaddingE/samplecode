{
 "cells": [
  {
   "cell_type": "code",
   "execution_count": 2,
   "metadata": {},
   "outputs": [],
   "source": [
    "import numpy as np\n",
    "import pandas as pd"
   ]
  },
  {
   "cell_type": "code",
   "execution_count": 3,
   "metadata": {},
   "outputs": [
    {
     "name": "stdout",
     "output_type": "stream",
     "text": [
      "{'a': 1, 'b': 2, 'c': 3}\n",
      "<class 'dict'>\n",
      "3\n",
      "\n",
      "pd series\n",
      "sr =\n",
      " a    1\n",
      "b    2\n",
      "c    3\n",
      "dtype: int64\n",
      "type sr = <class 'pandas.core.series.Series'>\n"
     ]
    }
   ],
   "source": [
    "dict_data = {'a': 1, 'b': 2, 'c': 3 }\n",
    "print(dict_data)\n",
    "print(type(dict_data))\n",
    "print(len(dict_data))\n",
    "\n",
    "print()\n",
    "print('pd series')\n",
    "sr = pd.Series(dict_data)\n",
    "print('sr =\\n',sr)\n",
    "print('type sr =', type(sr))"
   ]
  },
  {
   "cell_type": "code",
   "execution_count": 4,
   "metadata": {},
   "outputs": [
    {
     "name": "stdout",
     "output_type": "stream",
     "text": [
      "key = \n",
      " dict_keys(['a', 'b', 'c'])\n",
      "Values = \n",
      " dict_values([1, 2, 3])\n",
      "dict_items([('a', 1), ('b', 2), ('c', 3)])\n",
      "Index(['a', 'b', 'c'], dtype='object')\n",
      "[1 2 3]\n"
     ]
    }
   ],
   "source": [
    "## pd.Series\n",
    "\n",
    "print('key = \\n', dict_data.keys())\n",
    "print('Values = \\n', dict_data.values())\n",
    "print(dict_data.items())\n",
    "\n",
    "## sr\n",
    "\n",
    "print(sr.index)\n",
    "print(sr.values)"
   ]
  },
  {
   "cell_type": "code",
   "execution_count": 5,
   "metadata": {},
   "outputs": [
    {
     "name": "stdout",
     "output_type": "stream",
     "text": [
      "1     apple\n",
      "2    banana\n",
      "3     grape\n",
      "dtype: object\n",
      "Index([1, 2, 3], dtype='int64')\n",
      "['apple' 'banana' 'grape']\n",
      "1     apple\n",
      "2    banana\n",
      "3     grape\n",
      "dtype: object\n"
     ]
    }
   ],
   "source": [
    "dict_data = {1:'apple', 2:'banana', 3:'grape'}\n",
    "\n",
    "sr_fruit = pd.Series(dict_data)\n",
    "\n",
    "print(sr_fruit)\n",
    "print(sr_fruit.index)\n",
    "print(sr_fruit.values)\n",
    "\n",
    "# from list\n",
    "\n",
    "sr_list = pd.Series(['apple', 'banana', 'grape'],\n",
    "                    index=[1,2,3])\n",
    "\n",
    "print(sr_list)"
   ]
  },
  {
   "cell_type": "code",
   "execution_count": 6,
   "metadata": {},
   "outputs": [
    {
     "name": "stdout",
     "output_type": "stream",
     "text": [
      "1     apple\n",
      "2    banana\n",
      "3     grape\n",
      "dtype: object\n",
      "Index([1, 2], dtype='int64')\n",
      "banana\n"
     ]
    }
   ],
   "source": [
    "print(sr_list)\n",
    "print(sr_list.index[0:2])\n",
    "print(sr_list.values[1])\n"
   ]
  },
  {
   "cell_type": "code",
   "execution_count": 7,
   "metadata": {},
   "outputs": [
    {
     "name": "stdout",
     "output_type": "stream",
     "text": [
      "1    2019-01-02\n",
      "2          3.14\n",
      "3           ABC\n",
      "4           100\n",
      "5          True\n",
      "dtype: object\n",
      "2019-01-02\n",
      "1    2019-01-02\n",
      "2          3.14\n",
      "3           ABC\n",
      "dtype: object\n",
      "2    3.14\n",
      "3     ABC\n",
      "dtype: object\n"
     ]
    }
   ],
   "source": [
    "sr_list_test = pd.Series(['2019-01-02',3.14,'ABC',100,True],\n",
    "                         index=range(1,6))\n",
    "\n",
    "print(sr_list_test)\n",
    "\n",
    "print(sr_list_test[1])\n",
    "print(sr_list_test.loc[1:3])\n",
    "print(sr_list_test.iloc[1:3])"
   ]
  },
  {
   "cell_type": "code",
   "execution_count": 8,
   "metadata": {},
   "outputs": [
    {
     "name": "stdout",
     "output_type": "stream",
     "text": [
      "[1, 2, 3, 4, 5]\n"
     ]
    }
   ],
   "source": [
    "print(list(sr_list_test.index))"
   ]
  },
  {
   "cell_type": "code",
   "execution_count": 9,
   "metadata": {},
   "outputs": [
    {
     "name": "stdout",
     "output_type": "stream",
     "text": [
      "이름              지현\n",
      "생년월일    1995-03-11\n",
      "성별               남\n",
      "학생여부         False\n",
      "dtype: object\n",
      "지현\n",
      "이름              지현\n",
      "생년월일    1995-03-11\n",
      "dtype: object\n",
      "이름              지현\n",
      "생년월일    1995-03-11\n",
      "성별               남\n",
      "dtype: object\n",
      "\n",
      "이름         지현\n",
      "학생여부    False\n",
      "dtype: object\n"
     ]
    }
   ],
   "source": [
    "tup_data = ('지현', '1995-03-11', '남', False)\n",
    "\n",
    "sr_from_tup = pd.Series(tup_data,\n",
    "                        index=['이름', '생년월일', '성별', '학생여부'])\n",
    "\n",
    "print(sr_from_tup)\n",
    "print(sr_from_tup['이름'])\n",
    "print(sr_from_tup.iloc[:2])\n",
    "print(sr_from_tup.loc['이름':'성별'])\n",
    "print()\n",
    "\n",
    "print(sr_from_tup[['이름','학생여부']])"
   ]
  },
  {
   "cell_type": "code",
   "execution_count": 10,
   "metadata": {},
   "outputs": [
    {
     "name": "stdout",
     "output_type": "stream",
     "text": [
      "A     apple\n",
      "B    tomato\n",
      "C    banana\n",
      "D     melon\n",
      "E     grape\n",
      "F      pear\n",
      "dtype: object\n",
      "\n",
      "C    banana\n",
      "E     grape\n",
      "dtype: object\n",
      "C    banana\n",
      "E     grape\n",
      "dtype: object\n",
      "\n",
      "B    tomato\n",
      "C    banana\n",
      "D     melon\n",
      "E     grape\n",
      "dtype: object\n",
      "B    tomato\n",
      "C    banana\n",
      "D     melon\n",
      "E     grape\n",
      "dtype: object\n"
     ]
    }
   ],
   "source": [
    "tup_data = ('apple', 'tomato', 'banana', 'melon', 'grape', 'pear')\n",
    "tup_index = ('A', 'B', 'C', 'D', 'E', 'F')\n",
    "\n",
    "sr_from_tup = pd.Series(tup_data,\n",
    "                        index= tup_index)\n",
    "\n",
    "print(sr_from_tup)\n",
    "\n",
    "print()\n",
    "print(sr_from_tup.loc[['C','E']])\n",
    "print(sr_from_tup.iloc[[2,4]])\n",
    "\n",
    "print()\n",
    "print(sr_from_tup.loc['B':'E'])\n",
    "print(sr_from_tup.iloc[1:5])"
   ]
  },
  {
   "cell_type": "code",
   "execution_count": 11,
   "metadata": {},
   "outputs": [
    {
     "name": "stdout",
     "output_type": "stream",
     "text": [
      "a    4\n",
      "b    5\n",
      "c    6\n",
      "d    7\n",
      "Name: variable, dtype: int16\n",
      "Kim     [10, 20]\n",
      "Park          20\n",
      "Hong          30\n",
      "dtype: object\n"
     ]
    }
   ],
   "source": [
    "list_index = ['a','b','c','d']\n",
    "np_data = np.array([4,5,6,7],dtype=np.int16)\n",
    "\n",
    "sr_new = pd.Series(np_data, index=list_index, name= 'variable') \n",
    "\n",
    "print(sr_new)\n",
    "\n",
    "dict_type = {\n",
    "    'Kim':[10,20],\n",
    "    'Park': 20,\n",
    "    'Hong': 30\n",
    "}\n",
    "\n",
    "sr_new2 = pd.Series(dict_type)\n",
    "print(sr_new2)"
   ]
  },
  {
   "cell_type": "code",
   "execution_count": 12,
   "metadata": {},
   "outputs": [
    {
     "name": "stdout",
     "output_type": "stream",
     "text": [
      "{'c0': [1, 2, 3], 'c1': [4, 5, 6], 'c2': [7, 8, 9], 'c3': [10, 11, 12], 'c4': [13, 14, 15]}\n",
      "   c0  c1  c2  c3  c4\n",
      "1   1   4   7  10  13\n",
      "2   2   5   8  11  14\n",
      "3   3   6   9  12  15\n"
     ]
    }
   ],
   "source": [
    "## data frame\n",
    "\n",
    "dict_data = {\n",
    "    'c0':[1,2,3], 'c1':[4,5,6], 'c2':[7,8,9],\n",
    "    'c3':[10,11,12], 'c4':[13,14,15]\n",
    "}\n",
    "\n",
    "print(dict_data)\n",
    "df = pd.DataFrame(dict_data,\n",
    "                  index= range(1,4))\n",
    "\n",
    "print(df)"
   ]
  },
  {
   "cell_type": "code",
   "execution_count": 13,
   "metadata": {},
   "outputs": [
    {
     "name": "stdout",
     "output_type": "stream",
     "text": [
      "    수학  영어 성별     합격\n",
      "김씨  90  98  남   True\n",
      "이씨  80  89  남  False\n",
      "박씨  70  95  여   True\n"
     ]
    }
   ],
   "source": [
    "dict_data = {\n",
    "    '수학':[90,80,70], '영어':[98,89,95], '성별':['남','남','여'], '합격':[True, False, True]\n",
    "}\n",
    "\n",
    "list_index = ['김씨', '이씨', '박씨']\n",
    "\n",
    "df_new = pd.DataFrame(dict_data,index=list_index)\n",
    "\n",
    "print(df_new)"
   ]
  },
  {
   "cell_type": "code",
   "execution_count": 14,
   "metadata": {},
   "outputs": [
    {
     "name": "stdout",
     "output_type": "stream",
     "text": [
      "    수학  영어 성별     합격\n",
      "김씨  90  98  남   True\n",
      "이씨  80  89  남  False\n",
      "박씨  70  95  여   True\n"
     ]
    }
   ],
   "source": [
    "df_from_list = pd.DataFrame(\n",
    "    [[90,98,'남',True],\n",
    "     [80,89,'남',False],\n",
    "     [70,95,'여',True]],\n",
    "    columns=['수학','영어','성별','합격'],\n",
    "    index=['김씨','이씨','박씨']\n",
    ")\n",
    "\n",
    "print(df_from_list)"
   ]
  },
  {
   "cell_type": "code",
   "execution_count": 15,
   "metadata": {},
   "outputs": [
    {
     "name": "stdout",
     "output_type": "stream",
     "text": [
      "    나이 성별   학교\n",
      "준서  15  남  덕영중\n",
      "예은  17  여  수리중\n"
     ]
    }
   ],
   "source": [
    "df_from_list = pd.DataFrame(\n",
    "    [[15,'남','덕영중'],\n",
    "     [17,'여','수리중']],\n",
    "    columns=['나이','성별','학교'],\n",
    "    index=['준서','예은']\n",
    ")\n",
    "\n",
    "print(df_from_list)"
   ]
  },
  {
   "cell_type": "code",
   "execution_count": 16,
   "metadata": {},
   "outputs": [
    {
     "name": "stdout",
     "output_type": "stream",
     "text": [
      "   color size  price   class\n",
      "1  green    M   13.5  class1\n",
      "2    red    L   15.3  class2\n"
     ]
    }
   ],
   "source": [
    "df = pd.DataFrame(\n",
    "    [['green', 'M', 13.5, 'class1'],\n",
    "     ['red', 'L', 15.3, 'class2']]\n",
    ")\n",
    "df.columns = ['color', 'size', 'price', 'class']\n",
    "df.index = range(1,3)\n",
    "print(df)"
   ]
  },
  {
   "cell_type": "code",
   "execution_count": 17,
   "metadata": {},
   "outputs": [
    {
     "name": "stdout",
     "output_type": "stream",
     "text": [
      "    나이 성별   학교\n",
      "준서  15  남  영우중\n",
      "은결  17  여  에티중\n",
      "     연령 남여   소속\n",
      "학생1  15  남  영우중\n",
      "학생2  17  여  에티중\n"
     ]
    }
   ],
   "source": [
    "## DataFrame 수정\n",
    "\n",
    "df = pd.DataFrame(\n",
    "    [[15, '남', '영우중'],\n",
    "     [17, '여', '에티중']],\n",
    "    columns= ['나이', '성별', '학교'],\n",
    "    index= ['준서', '은결']\n",
    ")\n",
    "\n",
    "print(df)\n",
    "\n",
    "df.rename(columns= {'나이':'연령', '성별':'남여', '학교':'소속'},\n",
    "          inplace= True)\n",
    "df.rename(index= {'준서':'학생1','은결':'학생2'},\n",
    "          inplace= True)\n",
    "\n",
    "print(df)"
   ]
  },
  {
   "cell_type": "code",
   "execution_count": 25,
   "metadata": {},
   "outputs": [
    {
     "name": "stdout",
     "output_type": "stream",
     "text": [
      "    수학  영어   음악   체육\n",
      "서준  90  98   85  100\n",
      "우현  80  89   95   88\n",
      "인아  70  95  100   75\n"
     ]
    }
   ],
   "source": [
    "exam_data = {\n",
    "    '수학':[90, 80, 70],\n",
    "    '영어':[98, 89, 95],\n",
    "    '음악':[85, 95, 100],\n",
    "    '체육':[100, 88, 75]\n",
    "}\n",
    "\n",
    "df = pd.DataFrame(exam_data,\n",
    "                  index=['서준','우현','인아'])\n",
    "\n",
    "print(df)"
   ]
  },
  {
   "cell_type": "code",
   "execution_count": 30,
   "metadata": {},
   "outputs": [
    {
     "name": "stdout",
     "output_type": "stream",
     "text": [
      "    수학  영어   음악  체육\n",
      "인아  70  95  100  75\n",
      "None\n",
      "    영어   음악   체육\n",
      "서준  98   85  100\n",
      "우현  89   95   88\n",
      "인아  95  100   75\n",
      "    영어   음악   체육\n",
      "서준  98   85  100\n",
      "우현  89   95   88\n",
      "인아  95  100   75\n",
      "    수학  영어   음악   체육\n",
      "서준  90  98   85  100\n",
      "우현  80  89   95   88\n",
      "인아  70  95  100   75\n"
     ]
    }
   ],
   "source": [
    "df = pd.DataFrame(exam_data,\n",
    "                  index=['서준','우현','인아'])\n",
    "\n",
    "df1 = df\n",
    "df2 = df.copy()\n",
    "\n",
    "print(df.drop(['서준','우현'], axis = 0)) # default axis = 0\n",
    "print(df.drop(['수학'], axis = 1, inplace= True)) # default axis = 0\n",
    "\n",
    "print(df)\n",
    "print(df1)\n",
    "print(df2)"
   ]
  },
  {
   "cell_type": "code",
   "execution_count": 33,
   "metadata": {},
   "outputs": [
    {
     "name": "stdout",
     "output_type": "stream",
     "text": [
      "   A           B    C     D    E\n",
      "0  1  2010.07.05  1.2  test  foo\n",
      "1  2  2010.07.05  1.2  word  foo\n",
      "2  1  2010.07.05  1.2  test  foo\n",
      "3  3  2010.07.05  1.2  word  foo\n"
     ]
    }
   ],
   "source": [
    "df_rename = pd.DataFrame({\n",
    "    'A':[1, 2, 1, 3],\n",
    "    'B':'2010.07.05',\n",
    "    'C':1.2,\n",
    "    'D':['test','word', 'test', 'word'],\n",
    "    'E':'foo'\n",
    "})\n",
    "\n",
    "print(df_rename)"
   ]
  },
  {
   "cell_type": "code",
   "execution_count": 37,
   "metadata": {},
   "outputs": [
    {
     "name": "stdout",
     "output_type": "stream",
     "text": [
      "   Type        Data    C     D    E\n",
      "A     1  2010.07.05  1.2  test  foo\n",
      "B     2  2010.07.05  1.2  word  foo\n",
      "2     1  2010.07.05  1.2  test  foo\n"
     ]
    }
   ],
   "source": [
    "df_rename.rename(columns={'A':'Type','B':'Data'}, inplace=True)\n",
    "df_rename.rename(index={0:'A', 1:'B'}, inplace=True)\n",
    "df_rename.drop([3],inplace=True)\n",
    "\n",
    "print(df_rename)"
   ]
  },
  {
   "cell_type": "code",
   "execution_count": 44,
   "metadata": {},
   "outputs": [
    {
     "name": "stdout",
     "output_type": "stream",
     "text": [
      "    수학  영어   음악   체육\n",
      "서준  90  98   85  100\n",
      "우현  80  89   95   88\n",
      "인아  70  95  100   75\n",
      "수학     90\n",
      "영어     98\n",
      "음악     85\n",
      "체육    100\n",
      "Name: 서준, dtype: int64\n",
      "    수학  영어   음악  체육\n",
      "우현  80  89   95  88\n",
      "인아  70  95  100  75\n"
     ]
    },
    {
     "data": {
      "text/plain": [
       "서준    90\n",
       "우현    80\n",
       "인아    70\n",
       "Name: 수학, dtype: int64"
      ]
     },
     "execution_count": 44,
     "metadata": {},
     "output_type": "execute_result"
    }
   ],
   "source": [
    "exam_data = {\n",
    "    '수학':[90, 80, 70],\n",
    "    '영어':[98, 89, 95],\n",
    "    '음악':[85, 95, 100],\n",
    "    '체육':[100, 88, 75]\n",
    "}\n",
    "\n",
    "df = pd.DataFrame(exam_data,\n",
    "                  index=['서준','우현','인아'])\n",
    "print(df)\n",
    "print(df.loc['서준'])\n",
    "print(df.iloc[1:3])\n"
   ]
  },
  {
   "cell_type": "code",
   "execution_count": 50,
   "metadata": {},
   "outputs": [
    {
     "name": "stdout",
     "output_type": "stream",
     "text": [
      "    수학  음악\n",
      "서준  90  85\n",
      "우현  80  95\n",
      "    영어  음악   체육\n",
      "서준  98  85  100\n",
      "우현  89  95   88\n"
     ]
    }
   ],
   "source": [
    "print(df.loc['서준':'우현',['수학','음악']])\n",
    "print(df.iloc[0:2,1:])"
   ]
  },
  {
   "cell_type": "code",
   "execution_count": 53,
   "metadata": {},
   "outputs": [
    {
     "name": "stdout",
     "output_type": "stream",
     "text": [
      "    수학  영어   음악   체육\n",
      "서준  90  98   85  100\n",
      "우현  80  89   95   88\n",
      "인아  70  95  100   75\n",
      "    영어   음악   체육\n",
      "수학              \n",
      "90  98   85  100\n",
      "80  89   95   88\n",
      "70  95  100   75\n"
     ]
    }
   ],
   "source": [
    "print(df)\n",
    "\n",
    "df.set_index('수학',inplace=True)\n",
    "print(df)"
   ]
  },
  {
   "cell_type": "code",
   "execution_count": 68,
   "metadata": {},
   "outputs": [
    {
     "name": "stdout",
     "output_type": "stream",
     "text": [
      "   주식  다리갯수   이름 무리생활   비행\n",
      "0  고기     4   사자  yes   no\n",
      "1   풀     4   사슴  yes   no\n",
      "2  고기     4   늑대  yes   no\n",
      "3  고기     2  독수리  yes  yes\n",
      "4  잡식     2    곰   no  yes\n",
      "\n",
      "   주식  다리갯수   이름 무리생활   비행\n",
      "0  고기     4   사자  yes   no\n",
      "1   풀     4   사슴  yes   no\n",
      "2  고기     4   늑대  yes   no\n",
      "3  고기     2  독수리  yes  yes\n",
      "\n",
      "   주식   이름   비행\n",
      "0  고기   사자   no\n",
      "1   풀   사슴   no\n",
      "2  고기   늑대   no\n",
      "3  고기  독수리  yes\n",
      "4  잡식    곰  yes\n",
      "\n",
      "   주식   이름 무리생활\n",
      "0  고기   사자  yes\n",
      "2  고기   늑대  yes\n",
      "3  고기  독수리  yes\n"
     ]
    }
   ],
   "source": [
    "df_loc = pd.DataFrame([[\"고기\", 4, \"사자\", \"yes\", \"no\"],\n",
    "                      [\"풀\", 4, \"사슴\", \"yes\", \"no\"],\n",
    "                      [\"고기\", 4, \"늑대\", \"yes\", \"no\"],\n",
    "                      [\"고기\", 2, \"독수리\", \"yes\", \"yes\"],\n",
    "                      [\"잡식\", 2, \"곰\", \"no\", \"yes\"]],\n",
    "                     columns =  [\"주식\", \"다리갯수\", \"이름\", \"무리생활\", \"비행\"])\n",
    "\n",
    "print(df_loc)\n",
    "\n",
    "print()\n",
    "\n",
    "print(df_loc.loc[0:3,:])\n",
    "print()\n",
    "print(df_loc.loc[:,['주식','이름','비행']])\n",
    "print()\n",
    "print(df_loc.loc[[0,2,3],['주식','이름','무리생활']])"
   ]
  },
  {
   "cell_type": "code",
   "execution_count": 71,
   "metadata": {},
   "outputs": [
    {
     "name": "stdout",
     "output_type": "stream",
     "text": [
      "   이름  수학  영어   음악   체육\n",
      "0  서준  90  98   85  100\n",
      "1  우현  80  89   95   90\n",
      "2  인아  70  95  100   90\n",
      "   이름  수학  영어   음악   체육  국어   물리\n",
      "0  서준  90  98   85  100  62  100\n",
      "1  우현  80  89   95   90  77  100\n",
      "2  인아  70  95  100   90  99  100\n",
      "3  흥민  95  71   94  100  80   99\n"
     ]
    }
   ],
   "source": [
    "## Insert, delete\n",
    "\n",
    "exam_data = {'이름' : [ '서준', '우현', '인아'],\n",
    "             '수학' : [ 90, 80, 70],\n",
    "             '영어' : [ 98, 89, 95],\n",
    "             '음악' : [ 85, 95, 100],\n",
    "             '체육' : [ 100, 90, 90]}\n",
    "\n",
    "df = pd.DataFrame(exam_data)\n",
    "print(df)\n",
    "\n",
    "df['국어'] = [62, 77, 99]\n",
    "df['물리'] = 100\n",
    "\n",
    "df.loc[3] = ['흥민', 95, 71, 94, 100, 80, 99]\n",
    "\n",
    "print(df)"
   ]
  },
  {
   "cell_type": "code",
   "execution_count": 78,
   "metadata": {},
   "outputs": [
    {
     "name": "stdout",
     "output_type": "stream",
     "text": [
      "   이름  수학  영어   음악   체육\n",
      "0  서준  90  98   85  100\n",
      "1  우현  80  89   95   90\n",
      "2  인아  70  95  100   90\n",
      "      수학  영어   음악   체육\n",
      "  이름                  \n",
      "0 서준  90  98   85  100\n",
      "1 우현  80  89   95   90\n",
      "2 인아  70  95  100   90\n",
      "         수학    영어     음악     체육\n",
      "   이름                          \n",
      "0  서준  90.0  98.0   85.0  100.0\n",
      "1  우현  80.0  89.0   95.0   90.0\n",
      "2  인아  70.0  95.0  100.0   90.0\n",
      "서준      NaN   NaN    NaN   50.0\n",
      "         수학    영어     음악     체육\n",
      "   이름                          \n",
      "0  서준  90.0  98.0   85.0  100.0\n",
      "1  우현  80.0  70.0   95.0   90.0\n",
      "2  인아  70.0  95.0  100.0   90.0\n",
      "서준      NaN   NaN    NaN   50.0\n",
      "         수학    영어     음악     체육\n",
      "   이름                          \n",
      "0  서준  90.0  98.0   85.0  100.0\n",
      "1  우현  80.0  70.0   95.0   90.0\n",
      "2  인아  70.0  95.0  100.0   90.0\n",
      "서준      NaN   NaN  100.0   40.0\n",
      "        0     1      2     서준\n",
      "이름     서준    우현     인아       \n",
      "수학   90.0  80.0   70.0    NaN\n",
      "영어   98.0  70.0   95.0    NaN\n",
      "음악   85.0  95.0  100.0  100.0\n",
      "체육  100.0  90.0   90.0   40.0\n"
     ]
    }
   ],
   "source": [
    "exam_data = {'이름' : [ '서준', '우현', '인아'],\n",
    "             '수학' : [ 90, 80, 70],\n",
    "             '영어' : [ 98, 89, 95],\n",
    "             '음악' : [ 85, 95, 100],\n",
    "             '체육' : [ 100, 90, 90]}\n",
    "\n",
    "df = pd.DataFrame(exam_data)\n",
    "print(df)\n",
    "\n",
    "df.set_index('이름', inplace= True)\n",
    "print(df)\n",
    "\n",
    "df.loc['서준', '체육'] = 50\n",
    "print(df)\n",
    "\n",
    "df.iloc[1,1] = 70\n",
    "print(df)\n",
    "\n",
    "df.loc['서준', ['음악', '체육']] = 100, 40\n",
    "print(df)\n",
    "print(df.T)"
   ]
  },
  {
   "cell_type": "code",
   "execution_count": 85,
   "metadata": {},
   "outputs": [
    {
     "name": "stdout",
     "output_type": "stream",
     "text": [
      "{'c0': [1, 2, 3], 'c1': [4, 5, 6], 'c2': [7, 8, 9], 'c3': [10, 11, 12], 'c4': [13, 14, 15]}\n",
      "    c0  c1  c2  c3  c4\n",
      "r0   1   4   7  10  13\n",
      "r1   2   5   8  11  14\n",
      "r2   3   6   9  12  15\n",
      "  index  c0  c1  c2  c3  c4\n",
      "0    r0   1   4   7  10  13\n",
      "1    r1   2   5   8  11  14\n",
      "2    r2   3   6   9  12  15\n",
      "     c0   c1   c2    c3    c4\n",
      "r0  1.0  4.0  7.0  10.0  13.0\n",
      "r1  2.0  5.0  8.0  11.0  14.0\n",
      "r2  3.0  6.0  9.0  12.0  15.0\n",
      "r3  NaN  NaN  NaN   NaN   NaN\n",
      "r4  NaN  NaN  NaN   NaN   NaN\n"
     ]
    }
   ],
   "source": [
    "dict_data = {\n",
    "    'c0':[1,2,3], 'c1':[4,5,6], 'c2':[7,8,9],\n",
    "    'c3':[10,11,12], 'c4':[13,14,15]\n",
    "}\n",
    "\n",
    "print(dict_data)\n",
    "df = pd.DataFrame(dict_data,\n",
    "                  index= ['r0', 'r1', 'r2'])\n",
    "\n",
    "print(df)\n",
    "\n",
    "df3 = df.reset_index()\n",
    "print(df3)\n",
    "new_index = ['r0', 'r1', 'r2', 'r3', 'r4']\n",
    "\n",
    "df2 = df.reindex(new_index, copy= True)\n",
    "print(df2)"
   ]
  },
  {
   "cell_type": "code",
   "execution_count": 87,
   "metadata": {},
   "outputs": [
    {
     "name": "stdout",
     "output_type": "stream",
     "text": [
      "    c0  c1  c2  c3  c4\n",
      "r2   3   6   9  12  15\n",
      "r1   2   5   8  11  14\n",
      "r0   1   4   7  10  13\n"
     ]
    }
   ],
   "source": [
    "df4 = df.sort_index(ascending=False)\n",
    "print(df4)"
   ]
  },
  {
   "cell_type": "code",
   "execution_count": 90,
   "metadata": {},
   "outputs": [
    {
     "name": "stdout",
     "output_type": "stream",
     "text": [
      "    c0  c1  c2  c3  c4\n",
      "r0   1   4   7  10  13\n",
      "r1   2   5   8  11  14\n",
      "r2   3   6   9  12  15\n",
      "    c0  c1  c2  c3  c4\n",
      "r2   3   6   9  12  15\n",
      "r1   2   5   8  11  14\n",
      "r0   1   4   7  10  13\n"
     ]
    }
   ],
   "source": [
    "print(df)\n",
    "df5 = df.sort_values(by= 'c4',ascending= False)\n",
    "print(df5)"
   ]
  },
  {
   "cell_type": "code",
   "execution_count": 93,
   "metadata": {},
   "outputs": [
    {
     "name": "stdout",
     "output_type": "stream",
     "text": [
      "국어    100\n",
      "영어     80\n",
      "수학     90\n",
      "dtype: int64\n",
      "국어    50.0\n",
      "영어    40.0\n",
      "수학    45.0\n",
      "dtype: float64\n"
     ]
    }
   ],
   "source": [
    "## 사칙연산\n",
    "\n",
    "student1 = pd.Series({'국어':100, '영어':80, '수학':90})\n",
    "print(student1)\n",
    "\n",
    "student1_per = (student1*100)/200\n",
    "\n",
    "print(student1_per)"
   ]
  },
  {
   "cell_type": "code",
   "execution_count": 96,
   "metadata": {},
   "outputs": [
    {
     "name": "stdout",
     "output_type": "stream",
     "text": [
      "       덧셈    뺄셈     곱하기       나누기\n",
      "국어  180.0  20.0  8000.0  1.250000\n",
      "영어  170.0 -10.0  7200.0  0.888889\n",
      "수학  170.0  10.0  7200.0  1.125000\n"
     ]
    }
   ],
   "source": [
    "student1_pre = pd.Series({'국어':100, '영어':80, '수학':90})\n",
    "student1_post = pd.Series({'국어':80, '영어':90, '수학':80})\n",
    "\n",
    "addition = student1_pre + student1_post\n",
    "subtraction = student1_pre - student1_post\n",
    "multi = student1_pre * student1_post\n",
    "division = student1_pre / student1_post\n",
    "\n",
    "result = pd.DataFrame([addition, subtraction, multi, division],\n",
    "                      index= ['덧셈', '뺄셈', '곱하기', '나누기'])\n",
    "\n",
    "\n",
    "print(result.T)"
   ]
  },
  {
   "cell_type": "code",
   "execution_count": 97,
   "metadata": {},
   "outputs": [
    {
     "name": "stdout",
     "output_type": "stream",
     "text": [
      "Collecting seaborn\n",
      "  Downloading seaborn-0.12.2-py3-none-any.whl (293 kB)\n",
      "                                              0.0/293.3 kB ? eta -:--:--\n",
      "                                              0.0/293.3 kB ? eta -:--:--\n",
      "     -                                        10.2/293.3 kB ? eta -:--:--\n",
      "     -                                        10.2/293.3 kB ? eta -:--:--\n",
      "     -----                                 41.0/293.3 kB 393.8 kB/s eta 0:00:01\n",
      "     -------------                        112.6/293.3 kB 726.2 kB/s eta 0:00:01\n",
      "     -------------------------------------  286.7/293.3 kB 1.5 MB/s eta 0:00:01\n",
      "     -------------------------------------- 293.3/293.3 kB 1.3 MB/s eta 0:00:00\n",
      "Requirement already satisfied: numpy!=1.24.0,>=1.17 in c:\\users\\hyun9\\anaconda3\\envs\\pandas_sample\\lib\\site-packages (from seaborn) (1.24.3)\n",
      "Requirement already satisfied: pandas>=0.25 in c:\\users\\hyun9\\anaconda3\\envs\\pandas_sample\\lib\\site-packages (from seaborn) (2.0.1)\n",
      "Collecting matplotlib!=3.6.1,>=3.1 (from seaborn)\n",
      "  Downloading matplotlib-3.7.1-cp311-cp311-win_amd64.whl (7.6 MB)\n",
      "                                              0.0/7.6 MB ? eta -:--:--\n",
      "     -                                        0.2/7.6 MB 4.7 MB/s eta 0:00:02\n",
      "     --                                       0.5/7.6 MB 5.1 MB/s eta 0:00:02\n",
      "     ---                                      0.7/7.6 MB 5.8 MB/s eta 0:00:02\n",
      "     -----                                    1.0/7.6 MB 5.2 MB/s eta 0:00:02\n",
      "     ------                                   1.3/7.6 MB 5.6 MB/s eta 0:00:02\n",
      "     --------                                 1.6/7.6 MB 5.5 MB/s eta 0:00:02\n",
      "     ----------                               1.9/7.6 MB 5.8 MB/s eta 0:00:01\n",
      "     -----------                              2.2/7.6 MB 5.8 MB/s eta 0:00:01\n",
      "     ------------                             2.5/7.6 MB 5.8 MB/s eta 0:00:01\n",
      "     -------------                            2.6/7.6 MB 5.8 MB/s eta 0:00:01\n",
      "     ---------------                          2.9/7.6 MB 5.6 MB/s eta 0:00:01\n",
      "     -----------------                        3.3/7.6 MB 5.9 MB/s eta 0:00:01\n",
      "     ------------------                       3.6/7.6 MB 5.9 MB/s eta 0:00:01\n",
      "     --------------------                     4.0/7.6 MB 6.1 MB/s eta 0:00:01\n",
      "     ----------------------                   4.2/7.6 MB 6.0 MB/s eta 0:00:01\n",
      "     ------------------------                 4.6/7.6 MB 6.1 MB/s eta 0:00:01\n",
      "     -------------------------                4.9/7.6 MB 6.2 MB/s eta 0:00:01\n",
      "     ---------------------------              5.3/7.6 MB 6.2 MB/s eta 0:00:01\n",
      "     -----------------------------            5.6/7.6 MB 6.3 MB/s eta 0:00:01\n",
      "     ------------------------------           5.9/7.6 MB 6.3 MB/s eta 0:00:01\n",
      "     --------------------------------         6.1/7.6 MB 6.2 MB/s eta 0:00:01\n",
      "     ---------------------------------        6.3/7.6 MB 6.1 MB/s eta 0:00:01\n",
      "     ----------------------------------       6.6/7.6 MB 6.2 MB/s eta 0:00:01\n",
      "     ------------------------------------     6.9/7.6 MB 6.2 MB/s eta 0:00:01\n",
      "     -------------------------------------    7.1/7.6 MB 6.2 MB/s eta 0:00:01\n",
      "     --------------------------------------   7.4/7.6 MB 6.1 MB/s eta 0:00:01\n",
      "     ---------------------------------------  7.6/7.6 MB 6.1 MB/s eta 0:00:01\n",
      "     ---------------------------------------- 7.6/7.6 MB 5.9 MB/s eta 0:00:00\n",
      "Collecting contourpy>=1.0.1 (from matplotlib!=3.6.1,>=3.1->seaborn)\n",
      "  Downloading contourpy-1.0.7-cp311-cp311-win_amd64.whl (162 kB)\n",
      "                                              0.0/163.0 kB ? eta -:--:--\n",
      "     -------------------------------------- 163.0/163.0 kB 4.9 MB/s eta 0:00:00\n",
      "Collecting cycler>=0.10 (from matplotlib!=3.6.1,>=3.1->seaborn)\n",
      "  Downloading cycler-0.11.0-py3-none-any.whl (6.4 kB)\n",
      "Collecting fonttools>=4.22.0 (from matplotlib!=3.6.1,>=3.1->seaborn)\n",
      "  Downloading fonttools-4.39.3-py3-none-any.whl (1.0 MB)\n",
      "                                              0.0/1.0 MB ? eta -:--:--\n",
      "     -------                                  0.2/1.0 MB 5.9 MB/s eta 0:00:01\n",
      "     -------------------                      0.5/1.0 MB 6.2 MB/s eta 0:00:01\n",
      "     ----------------------------------       0.9/1.0 MB 6.8 MB/s eta 0:00:01\n",
      "     ---------------------------------------- 1.0/1.0 MB 6.4 MB/s eta 0:00:00\n",
      "Collecting kiwisolver>=1.0.1 (from matplotlib!=3.6.1,>=3.1->seaborn)\n",
      "  Downloading kiwisolver-1.4.4-cp311-cp311-win_amd64.whl (55 kB)\n",
      "                                              0.0/55.4 kB ? eta -:--:--\n",
      "     ---------------------------------------- 55.4/55.4 kB 2.8 MB/s eta 0:00:00\n",
      "Requirement already satisfied: packaging>=20.0 in c:\\users\\hyun9\\appdata\\roaming\\python\\python311\\site-packages (from matplotlib!=3.6.1,>=3.1->seaborn) (23.1)\n",
      "Collecting pillow>=6.2.0 (from matplotlib!=3.6.1,>=3.1->seaborn)\n",
      "  Downloading Pillow-9.5.0-cp311-cp311-win_amd64.whl (2.5 MB)\n",
      "                                              0.0/2.5 MB ? eta -:--:--\n",
      "     ------                                   0.4/2.5 MB 12.2 MB/s eta 0:00:01\n",
      "     -------------                            0.8/2.5 MB 10.6 MB/s eta 0:00:01\n",
      "     ---------------------                    1.3/2.5 MB 10.6 MB/s eta 0:00:01\n",
      "     ----------------------------             1.8/2.5 MB 10.2 MB/s eta 0:00:01\n",
      "     ------------------------------------     2.3/2.5 MB 10.3 MB/s eta 0:00:01\n",
      "     ---------------------------------------- 2.5/2.5 MB 9.4 MB/s eta 0:00:00\n",
      "Collecting pyparsing>=2.3.1 (from matplotlib!=3.6.1,>=3.1->seaborn)\n",
      "  Downloading pyparsing-3.0.9-py3-none-any.whl (98 kB)\n",
      "                                              0.0/98.3 kB ? eta -:--:--\n",
      "     ---------------------------------------- 98.3/98.3 kB 2.8 MB/s eta 0:00:00\n",
      "Requirement already satisfied: python-dateutil>=2.7 in c:\\users\\hyun9\\appdata\\roaming\\python\\python311\\site-packages (from matplotlib!=3.6.1,>=3.1->seaborn) (2.8.2)\n",
      "Requirement already satisfied: pytz>=2020.1 in c:\\users\\hyun9\\anaconda3\\envs\\pandas_sample\\lib\\site-packages (from pandas>=0.25->seaborn) (2023.3)\n",
      "Requirement already satisfied: tzdata>=2022.1 in c:\\users\\hyun9\\anaconda3\\envs\\pandas_sample\\lib\\site-packages (from pandas>=0.25->seaborn) (2023.3)\n",
      "Requirement already satisfied: six>=1.5 in c:\\users\\hyun9\\appdata\\roaming\\python\\python311\\site-packages (from python-dateutil>=2.7->matplotlib!=3.6.1,>=3.1->seaborn) (1.16.0)\n",
      "Installing collected packages: pyparsing, pillow, kiwisolver, fonttools, cycler, contourpy, matplotlib, seaborn\n",
      "Successfully installed contourpy-1.0.7 cycler-0.11.0 fonttools-4.39.3 kiwisolver-1.4.4 matplotlib-3.7.1 pillow-9.5.0 pyparsing-3.0.9 seaborn-0.12.2\n"
     ]
    }
   ],
   "source": [
    "! pip install seaborn"
   ]
  },
  {
   "cell_type": "code",
   "execution_count": 111,
   "metadata": {},
   "outputs": [
    {
     "name": "stdout",
     "output_type": "stream",
     "text": [
      "     survived   age     fare      won\n",
      "0           0  22.0   7.2500   7250.0\n",
      "1           1  38.0  71.2833  71283.3\n",
      "2           1  26.0   7.9250   7925.0\n",
      "3           1  35.0  53.1000  53100.0\n",
      "4           0  35.0   8.0500   8050.0\n",
      "..        ...   ...      ...      ...\n",
      "886         0  27.0  13.0000  13000.0\n",
      "887         1  19.0  30.0000  30000.0\n",
      "888         0   NaN  23.4500  23450.0\n",
      "889         1  26.0  30.0000  30000.0\n",
      "890         0  32.0   7.7500   7750.0\n",
      "\n",
      "[891 rows x 4 columns]\n"
     ]
    }
   ],
   "source": [
    "import seaborn as sns\n",
    "\n",
    "titanic = sns.load_dataset('titanic')\n",
    "#print(type(titanic))\n",
    "\n",
    "#print(titanic.head())\n",
    "#print(titanic.shape)\n",
    "\n",
    "df = titanic.loc[:, ['survived', 'age', 'fare']]\n",
    "df['won'] = df['fare'] * 1000\n",
    "print(df)\n",
    "\n",
    "\n",
    "\n"
   ]
  }
 ],
 "metadata": {
  "kernelspec": {
   "display_name": "pandas_sample",
   "language": "python",
   "name": "python3"
  },
  "language_info": {
   "codemirror_mode": {
    "name": "ipython",
    "version": 3
   },
   "file_extension": ".py",
   "mimetype": "text/x-python",
   "name": "python",
   "nbconvert_exporter": "python",
   "pygments_lexer": "ipython3",
   "version": "3.11.3"
  },
  "orig_nbformat": 4
 },
 "nbformat": 4,
 "nbformat_minor": 2
}
